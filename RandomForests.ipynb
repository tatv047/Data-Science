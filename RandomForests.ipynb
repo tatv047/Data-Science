{
  "nbformat": 4,
  "nbformat_minor": 0,
  "metadata": {
    "colab": {
      "provenance": [],
      "authorship_tag": "ABX9TyMj8L5QAV/qx+6VkEgFlWTv",
      "include_colab_link": true
    },
    "kernelspec": {
      "name": "python3",
      "display_name": "Python 3"
    },
    "language_info": {
      "name": "python"
    }
  },
  "cells": [
    {
      "cell_type": "markdown",
      "metadata": {
        "id": "view-in-github",
        "colab_type": "text"
      },
      "source": [
        "<a href=\"https://colab.research.google.com/github/tatv047/Data-Science/blob/main/RandomForests.ipynb\" target=\"_parent\"><img src=\"https://colab.research.google.com/assets/colab-badge.svg\" alt=\"Open In Colab\"/></a>"
      ]
    },
    {
      "cell_type": "markdown",
      "source": [
        "link to lesson: https://www.kaggle.com/code/hamelg/python-for-data-30-random-forests\n",
        "\n",
        "For the final lesson in this guide, we'll learn about random forest models. As we saw last time, decision trees are a conceptually simple predictive modeling technique, but when you start building deep trees, they become complicated and likely to overfit your training data. In addition, decision trees are constructed in a way such that branch splits are always made on variables that appear to be the most significant first, even if those splits do not lead to optimal outcomes as the tree grows. Random forests are an extension of decision trees that address these shortcomings."
      ],
      "metadata": {
        "id": "FR04lDkkwOxT"
      }
    },
    {
      "cell_type": "markdown",
      "source": [
        "## Random Forests Basics\n",
        "\n",
        "A random forest model is a collection of decision tree models that are combined together to make predictions. When you make a random forest, you have to specify the number of decision trees you want to use to make the model. The random forest algorithm then takes random samples of observations from your training data and builds a decision tree model for each sample. The random samples are typically drawn with replacement, meaning the same observation can be drawn multiple times. The end result is a bunch of decision trees that are created with different groups of data records drawn from the original training data.\n",
        "\n",
        "The decision trees in a random forest model are a little different than the standard decision trees we made last time. Instead of growing trees where every single explanatory variable can potentially be used to make a branch at any level in the tree, random forests limit the variables that can be used to make a split in the decision tree to some random subset of the explanatory variables. Limiting the splits in this fashion helps avoid the pitfall of always splitting on the same variables and helps random forests create a wider variety of trees to reduce overfitting.\n",
        "\n",
        "Random forests are an example of an ensemble model: a model composed of some combination of several different underlying models. Ensemble models often yields better results than single models because different models may detect different patterns in the data and combining models tends to dull the tendency that complex single models have to overfit the data.\n",
        "\n",
        "## Random Forests on Titanic\n",
        "\n",
        "Python's sklearn package offers a random forest model that works much like the decision tree model we used last time. Let's use it to train a random forest model on the Titanic training set:\n",
        "\n"
      ],
      "metadata": {
        "id": "dbz2-AXFwVrm"
      }
    },
    {
      "cell_type": "code",
      "execution_count": 1,
      "metadata": {
        "id": "X9dGohZswKpb"
      },
      "outputs": [],
      "source": [
        "import numpy as np\n",
        "import pandas as pd\n",
        "import os"
      ]
    },
    {
      "cell_type": "code",
      "source": [
        "# Load and prepare Titanic data\n",
        "titanic_train = pd.read_csv(\"/content/sample_data/train.csv\")    # Read the data\n",
        "\n",
        "# Impute median Age for NA Age values\n",
        "new_age_var = np.where(titanic_train[\"Age\"].isnull(), # Logical check\n",
        "                       28,                       # Value if check is true\n",
        "                       titanic_train[\"Age\"])     # Value if check is false\n",
        "\n",
        "titanic_train[\"Age\"] = new_age_var"
      ],
      "metadata": {
        "id": "w-ptayaDzpZo"
      },
      "execution_count": 2,
      "outputs": []
    },
    {
      "cell_type": "code",
      "source": [
        "from sklearn.ensemble import RandomForestClassifier\n",
        "from sklearn import preprocessing"
      ],
      "metadata": {
        "id": "U1UqHo5KzzoA"
      },
      "execution_count": 3,
      "outputs": []
    },
    {
      "cell_type": "code",
      "source": [
        "# set the seed\n",
        "np.random.seed(12)\n",
        "\n",
        "# Initialize label encoder\n",
        "label_encoder = preprocessing.LabelEncoder()\n",
        "\n",
        "# Convert some variables to numeric\n",
        "titanic_train[\"Sex\"] = label_encoder.fit_transform(titanic_train[\"Sex\"])\n",
        "\n",
        "# Initialize the model\n",
        "rf_model = RandomForestClassifier(n_estimators=1000, # Number of trees\n",
        "                                  max_features=2,    # Num features considered\n",
        "                                  oob_score=True)    # Use OOB scoring*\n",
        "\n",
        "features = [\"Sex\",\"Pclass\",\"SibSp\",\"Age\",\"Fare\"]\n",
        "\n",
        "# Train the model\n",
        "rf_model.fit(X=titanic_train[features],\n",
        "             y=titanic_train[\"Survived\"])\n",
        "\n",
        "print(\"OOB accuracy: \")\n",
        "print(rf_model.oob_score_)"
      ],
      "metadata": {
        "colab": {
          "base_uri": "https://localhost:8080/"
        },
        "id": "ByB0EO6Kz1zg",
        "outputId": "3e785236-f480-402d-a12c-0a54812889c3"
      },
      "execution_count": 4,
      "outputs": [
        {
          "output_type": "stream",
          "name": "stdout",
          "text": [
            "OOB accuracy: \n",
            "0.819304152637486\n"
          ]
        }
      ]
    },
    {
      "cell_type": "markdown",
      "source": [
        "Since random forest models involve building trees from random subsets or \"bags\" of data, model performance can be estimated by making predictions on the **out-of-bag (OOB)** samples instead of using cross validation. You can use cross validation on random forests, but OOB validation already provides a good estimate of performance and building several random forest models to conduct K-fold cross validation with random forest models can be computationally expensive.\n",
        "\n",
        "The random forest classifier assigns an importance value to each feature used in training. Features with higher importance were more influential in creating the model, indicating a stronger association with the response variable. Let's check the feature importance for our random forest model:"
      ],
      "metadata": {
        "id": "fwY-gciy0LLX"
      }
    },
    {
      "cell_type": "code",
      "source": [
        "for feature, imp in zip(features, rf_model.feature_importances_):\n",
        "    print(feature, imp)"
      ],
      "metadata": {
        "colab": {
          "base_uri": "https://localhost:8080/"
        },
        "id": "43-zlm8Kz9oe",
        "outputId": "9a7f76bd-4353-40da-b05a-94a693edc928"
      },
      "execution_count": 5,
      "outputs": [
        {
          "output_type": "stream",
          "name": "stdout",
          "text": [
            "Sex 0.2734664424750403\n",
            "Pclass 0.09002593001585939\n",
            "SibSp 0.048686858870217925\n",
            "Age 0.27668347382949054\n",
            "Fare 0.3111372948093918\n"
          ]
        }
      ]
    },
    {
      "cell_type": "markdown",
      "source": [
        "Feature importance can help identify useful features and eliminate features that don't contribute much to the model.\n",
        "\n",
        "As a final exercise, let's use the random forest model to make predictions on the titanic test set and submit them to Kaggle to see how our actual generalization performance compares to the OOB estimate:"
      ],
      "metadata": {
        "id": "uJU1U20w0Xa9"
      }
    },
    {
      "cell_type": "code",
      "source": [
        "# Read and prepare test data\n",
        "titanic_test = pd.read_csv(\"/content/sample_data/test.csv\")    # Read the data\n",
        "\n",
        "# Impute median Age for NA Age values\n",
        "new_age_var = np.where(titanic_test[\"Age\"].isnull(),\n",
        "                       28,\n",
        "                       titanic_test[\"Age\"])\n",
        "\n",
        "titanic_test[\"Age\"] = new_age_var\n",
        "\n",
        "# Fill missing Fare with 50\n",
        "new_fare_var = np.where(titanic_test[\"Fare\"].isnull(),\n",
        "                       50,\n",
        "                       titanic_test[\"Fare\"])\n",
        "\n",
        "titanic_test[\"Fare\"] = new_fare_var\n",
        "\n",
        "# Convert some variables to numeric\n",
        "titanic_test[\"Sex\"] = label_encoder.fit_transform(titanic_test[\"Sex\"])"
      ],
      "metadata": {
        "id": "_51Fw8HV0Rpx"
      },
      "execution_count": 6,
      "outputs": []
    },
    {
      "cell_type": "code",
      "source": [
        "# Make test set predictions\n",
        "test_preds = rf_model.predict(X = titanic_test[features])\n",
        "\n",
        "# Create a submission for Kaggle\n",
        "submission = pd.DataFrame({\"PassengerId\":titanic_test[\"PassengerId\"],\n",
        "                           \"Survived\":test_preds})\n",
        "\n",
        "# Save submission to CSV\n",
        "submission.to_csv(\"tutorial_randomForest_submission.csv\",\n",
        "                  index=False)        # Do not save index values"
      ],
      "metadata": {
        "id": "pnZIumRo0fcU"
      },
      "execution_count": 7,
      "outputs": []
    }
  ]
}