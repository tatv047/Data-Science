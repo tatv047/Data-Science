{
  "cells": [
    {
      "cell_type": "markdown",
      "metadata": {
        "id": "view-in-github",
        "colab_type": "text"
      },
      "source": [
        "<a href=\"https://colab.research.google.com/github/tatv047/Data-Science/blob/main/Python_for_Data_27_Linear_Regression.ipynb\" target=\"_parent\"><img src=\"https://colab.research.google.com/assets/colab-badge.svg\" alt=\"Open In Colab\"/></a>"
      ]
    },
    {
      "source": [
        "\n",
        "# IMPORTANT: RUN THIS CELL IN ORDER TO IMPORT YOUR KAGGLE DATA SOURCES\n",
        "# TO THE CORRECT LOCATION (/kaggle/input) IN YOUR NOTEBOOK,\n",
        "# THEN FEEL FREE TO DELETE THIS CELL.\n",
        "# NOTE: THIS NOTEBOOK ENVIRONMENT DIFFERS FROM KAGGLE'S PYTHON\n",
        "# ENVIRONMENT SO THERE MAY BE MISSING LIBRARIES USED BY YOUR\n",
        "# NOTEBOOK.\n",
        "\n",
        "import os\n",
        "import sys\n",
        "from tempfile import NamedTemporaryFile\n",
        "from urllib.request import urlopen\n",
        "from urllib.parse import unquote, urlparse\n",
        "from urllib.error import HTTPError\n",
        "from zipfile import ZipFile\n",
        "import tarfile\n",
        "import shutil\n",
        "\n",
        "CHUNK_SIZE = 40960\n",
        "DATA_SOURCE_MAPPING = 'titanic:https%3A%2F%2Fstorage.googleapis.com%2Fkaggle-competitions-data%2Fkaggle-v2%2F3136%2F26502%2Fbundle%2Farchive.zip%3FX-Goog-Algorithm%3DGOOG4-RSA-SHA256%26X-Goog-Credential%3Dgcp-kaggle-com%2540kaggle-161607.iam.gserviceaccount.com%252F20240609%252Fauto%252Fstorage%252Fgoog4_request%26X-Goog-Date%3D20240609T130809Z%26X-Goog-Expires%3D259200%26X-Goog-SignedHeaders%3Dhost%26X-Goog-Signature%3D44917f001fefa6442842e5fc5d30da8af53fdab31e0f1a79723bea83d5ccb84ee14557d62f7527b38e8abf151037cf862a83a9865ea8103424b59805522d150a49e74f9aa88ccb222beb313763f0f2b7b2199492398602f75e687def55bf49918238f76177a75e3477effc641ac36f5c3f1dbfe7c1e8c4f14a6f176f3ef4b12cb3f94aaeea11523fe5f0e10dc9ff7979369586f06a000ef537e3b118f04bfd2af59745ccd26bfd043809594be5711dfaab8ed1acd8dc45c6218e6d34541ce363905eb1375b0cb7f3b2fc4a4288a26b85eca191e8b5360c5d9cabc3a851a966a5b80f0687837eb2fb2454e621b27357a4f42de5ad619c195b43873afd8ac6b669,mtcars:https%3A%2F%2Fstorage.googleapis.com%2Fkaggle-data-sets%2F28259%2F36005%2Fbundle%2Farchive.zip%3FX-Goog-Algorithm%3DGOOG4-RSA-SHA256%26X-Goog-Credential%3Dgcp-kaggle-com%2540kaggle-161607.iam.gserviceaccount.com%252F20240609%252Fauto%252Fstorage%252Fgoog4_request%26X-Goog-Date%3D20240609T130809Z%26X-Goog-Expires%3D259200%26X-Goog-SignedHeaders%3Dhost%26X-Goog-Signature%3D70ba7d7674a533ac494882b5e043fcc436a1e46ed2e6f2b2164edb95111e415791ca2ba3739e2af836fcede8cc806b41681339bb14719f59d7051fd3721030b5b5b31f0d20118c555326cc4af5dfed7845d1e21d0be77b1d087a9092877e9fe92815e3bfe24123b2e779ea29acaa7f477bef29311a0cb289f3509b688aaff9ae68a0eb1a530a65b60b31a1daaa9b83d93a04735693eb495a06504e0291430a78190c8f1075cad3318a0ddecb315a061074bd5ee62d32a4cd0877e00b4a8670c43eda3dfaa332df7946a96048bea66ed1efbb7554a8a89875a4af52bb5bc99732db9814b01ad68f4d3c00f75a1da5eebfc87bf912fc2f6b691f5a4a4e0b3573eb'\n",
        "\n",
        "KAGGLE_INPUT_PATH='/kaggle/input'\n",
        "KAGGLE_WORKING_PATH='/kaggle/working'\n",
        "KAGGLE_SYMLINK='kaggle'\n",
        "\n",
        "!umount /kaggle/input/ 2> /dev/null\n",
        "shutil.rmtree('/kaggle/input', ignore_errors=True)\n",
        "os.makedirs(KAGGLE_INPUT_PATH, 0o777, exist_ok=True)\n",
        "os.makedirs(KAGGLE_WORKING_PATH, 0o777, exist_ok=True)\n",
        "\n",
        "try:\n",
        "  os.symlink(KAGGLE_INPUT_PATH, os.path.join(\"..\", 'input'), target_is_directory=True)\n",
        "except FileExistsError:\n",
        "  pass\n",
        "try:\n",
        "  os.symlink(KAGGLE_WORKING_PATH, os.path.join(\"..\", 'working'), target_is_directory=True)\n",
        "except FileExistsError:\n",
        "  pass\n",
        "\n",
        "for data_source_mapping in DATA_SOURCE_MAPPING.split(','):\n",
        "    directory, download_url_encoded = data_source_mapping.split(':')\n",
        "    download_url = unquote(download_url_encoded)\n",
        "    filename = urlparse(download_url).path\n",
        "    destination_path = os.path.join(KAGGLE_INPUT_PATH, directory)\n",
        "    try:\n",
        "        with urlopen(download_url) as fileres, NamedTemporaryFile() as tfile:\n",
        "            total_length = fileres.headers['content-length']\n",
        "            print(f'Downloading {directory}, {total_length} bytes compressed')\n",
        "            dl = 0\n",
        "            data = fileres.read(CHUNK_SIZE)\n",
        "            while len(data) > 0:\n",
        "                dl += len(data)\n",
        "                tfile.write(data)\n",
        "                done = int(50 * dl / int(total_length))\n",
        "                sys.stdout.write(f\"\\r[{'=' * done}{' ' * (50-done)}] {dl} bytes downloaded\")\n",
        "                sys.stdout.flush()\n",
        "                data = fileres.read(CHUNK_SIZE)\n",
        "            if filename.endswith('.zip'):\n",
        "              with ZipFile(tfile) as zfile:\n",
        "                zfile.extractall(destination_path)\n",
        "            else:\n",
        "              with tarfile.open(tfile.name) as tarfile:\n",
        "                tarfile.extractall(destination_path)\n",
        "            print(f'\\nDownloaded and uncompressed: {directory}')\n",
        "    except HTTPError as e:\n",
        "        print(f'Failed to load (likely expired) {download_url} to path {destination_path}')\n",
        "        continue\n",
        "    except OSError as e:\n",
        "        print(f'Failed to load {download_url} to path {destination_path}')\n",
        "        continue\n",
        "\n",
        "print('Data source import complete.')\n"
      ],
      "metadata": {
        "id": "y8XlABttHGnC"
      },
      "cell_type": "code",
      "outputs": [],
      "execution_count": null
    },
    {
      "metadata": {
        "_uuid": "8f2839f25d086af736a60e9eeb907d3b93b6e0e5",
        "_cell_guid": "b1076dfc-b9ad-4769-8c92-a6c4dae69d19",
        "trusted": true,
        "id": "W4goxsP1HGnE"
      },
      "cell_type": "markdown",
      "source": [
        "# Python for Data 27: Linear Regression\n",
        "[back to index](https://www.kaggle.com/hamelg/python-for-data-analysis-index)"
      ]
    },
    {
      "metadata": {
        "_cell_guid": "79c7e3d0-c299-4dcb-8224-4455121ee9b0",
        "collapsed": true,
        "_uuid": "d629ff2d2480ee46fbb7e2d37f6b5fab8052498a",
        "trusted": false,
        "id": "bnOiFcwjHGnH"
      },
      "cell_type": "markdown",
      "source": [
        "In the last few lessons we learned about statistical inference techniques including the t-test, chi-squared test and ANOVA which let you analyze differences between data samples. Predictive modeling--using a data samples to make predictions about unseen data, such as data that has yet to be generated--is another common data analytics task. Predictive modeling is a form of machine learning, which describes using computers to automate the process of finding patterns in data.\n",
        "\n",
        "Machine learning is the driving force behind all kinds of modern conveniences and automation systems like ATMs that can read handwritten text, smartphones that translate speech to text and self-driving cars. The methods used in such cutting-edge applications are more advanced than anything we'll cover in this introduction, but they are all based on the principles of taking data and applying some learning algorithm to it to arrive at some sort of prediction.\n",
        "\n",
        "This lesson is intended to provide a high level overview of linear regression and how to begin using it in Python."
      ]
    },
    {
      "metadata": {
        "id": "Z45BqHz6HGnH"
      },
      "cell_type": "markdown",
      "source": [
        "# Linear Regression Basics"
      ]
    },
    {
      "metadata": {
        "id": "TZAX0gaDHGnH"
      },
      "cell_type": "markdown",
      "source": [
        "\n",
        "Linear regression is a predictive modeling technique for predicting a numeric response variable based on one or more explanatory variables. The term \"regression\" in predictive modeling generally refers to any modeling task that involves predicting a real number (as opposed classification, which involves predicting a category or class.). The term \"linear\" in the name linear regression refers to the fact that the method models data with linear combination of the explanatory variables. A linear combination is an expression where one or more variables are scaled by a constant factor and added together. In the case of linear regression with a single explanatory variable, the linear combination used in linear regression can be expressed as:\n",
        "\n",
        "response = intercept + constant ∗ explanatory\n",
        "\n",
        "The right side if the equation defines a line with a certain y-intercept and slope times the explanatory variable. In other words, linear regression in its most basic form fits a straight line to the response variable. The model is designed to fit a line that minimizes the squared differences (also called errors or residuals.). We won't go into all the math behind how the model actually minimizes the squared errors, but the end result is a line intended to give the \"best fit\" to the data. Since linear regression fits data with a line, it is most effective in cases where the response and explanatory variable have a linear relationship.\n",
        "\n",
        "Let's revisit the mtcars data set and use linear regression to predict vehicle gas mileage based on vehicle weight. First, let's load some libraries and look at a scatterplot of weight and mpg to get a sense of the shape of the data:"
      ]
    },
    {
      "metadata": {
        "trusted": true,
        "id": "W79NJVtCHGnI"
      },
      "cell_type": "code",
      "source": [
        "%matplotlib inline\n",
        "\n",
        "import numpy as np\n",
        "import pandas as pd\n",
        "import matplotlib\n",
        "import matplotlib.pyplot as plt\n",
        "import scipy.stats as stats\n",
        "matplotlib.style.use('ggplot')"
      ],
      "execution_count": null,
      "outputs": []
    },
    {
      "metadata": {
        "trusted": true,
        "id": "EY-17fE3HGnI",
        "outputId": "b85dae67-87a3-4c8b-c023-9b1fb795b8de"
      },
      "cell_type": "code",
      "source": [
        "# Load mtcars data set\n",
        "mtcars = pd.read_csv(\"../input/mtcars/mtcars.csv\")\n",
        "\n",
        "mtcars.plot(kind=\"scatter\",\n",
        "           x=\"wt\",\n",
        "           y=\"mpg\",\n",
        "           figsize=(9,9),\n",
        "           color=\"black\");"
      ],
      "execution_count": null,
      "outputs": [
        {
          "output_type": "display_data",
          "data": {
            "text/plain": "<Figure size 648x648 with 1 Axes>",
            "image/png": "[encoded data removed]"
          },
          "metadata": {}
        }
      ]
    },
    {
      "metadata": {
        "id": "J_EiEeewHGnJ"
      },
      "cell_type": "markdown",
      "source": [
        "The scatterplot shows a roughly linear relationship between weight and mpg, suggesting a linear regression model might work well.\n",
        "\n",
        "Python's scikit-learn library contains a wide range of functions for predictive modeling. Let's load its linear regression training function and fit a line to the mtcars data:"
      ]
    },
    {
      "metadata": {
        "trusted": true,
        "id": "apSPuBq5HGnJ"
      },
      "cell_type": "code",
      "source": [
        "from sklearn import linear_model"
      ],
      "execution_count": null,
      "outputs": []
    },
    {
      "metadata": {
        "trusted": true,
        "id": "mWXeT-GDHGnJ",
        "outputId": "82ef2498-5a11-4c9b-ce28-8fa41da63ede"
      },
      "cell_type": "code",
      "source": [
        "# Initialize model\n",
        "regression_model = linear_model.LinearRegression()\n",
        "\n",
        "# Train the model using the mtcars data\n",
        "regression_model.fit(X = pd.DataFrame(mtcars[\"wt\"]),\n",
        "                     y = mtcars[\"mpg\"])\n",
        "\n",
        "# Check trained model y-intercept\n",
        "print(regression_model.intercept_)\n",
        "\n",
        "# Check trained model coefficients\n",
        "print(regression_model.coef_)"
      ],
      "execution_count": null,
      "outputs": [
        {
          "output_type": "stream",
          "text": "37.28512616734204\n[-5.34447157]\n",
          "name": "stdout"
        }
      ]
    },
    {
      "metadata": {
        "id": "w_ArtxegHGnK"
      },
      "cell_type": "markdown",
      "source": [
        "The output above shows the model intercept and coefficients used to create the best fit line. In this case the y-intercept term is set to 37.2851 and the coefficient for the weight variable is -5.3445. In other words, the model fit the line: mpg = 37.2851 - 5.3445 * wt.\n",
        "\n",
        "We can get a sense of how much of the variance in the response variable is explained by the model using the model.score() function:"
      ]
    },
    {
      "metadata": {
        "trusted": true,
        "id": "rucQUEcxHGnK",
        "outputId": "cf2b98a4-cffd-405e-eb36-7d45e3014ac0"
      },
      "cell_type": "code",
      "source": [
        "regression_model.score(X = pd.DataFrame(mtcars[\"wt\"]),\n",
        "                       y = mtcars[\"mpg\"])"
      ],
      "execution_count": null,
      "outputs": [
        {
          "output_type": "execute_result",
          "execution_count": 8,
          "data": {
            "text/plain": "0.7528327936582646"
          },
          "metadata": {}
        }
      ]
    },
    {
      "metadata": {
        "id": "GiFOkwIoHGnK"
      },
      "cell_type": "markdown",
      "source": [
        "The output of the score function for linear regression is \"R-squared\", a value that ranges from 0 to 1 which describes the proportion of variance in the response variable that is explained by the model. In this case, car weight explains roughly 75% of the variance in mpg.\n",
        "\n",
        "The R-squared measure is based on the residuals: differences between what the model predicts for each data point and the actual value of each data point. We can extract the model's residuals by making a prediction with the model on the data and then subtracting the actual value from each prediction:"
      ]
    },
    {
      "metadata": {
        "trusted": true,
        "id": "XDi9vVzsHGnL",
        "outputId": "1e49e8d8-84b0-43e3-d01b-d17122ddf540"
      },
      "cell_type": "code",
      "source": [
        "train_prediction = regression_model.predict(X = pd.DataFrame(mtcars[\"wt\"]))\n",
        "\n",
        "# Actual - prediction = residuals\n",
        "residuals = mtcars[\"mpg\"] - train_prediction\n",
        "\n",
        "residuals.describe()"
      ],
      "execution_count": null,
      "outputs": [
        {
          "output_type": "execute_result",
          "execution_count": 9,
          "data": {
            "text/plain": "count    3.200000e+01\nmean    -8.326673e-15\nstd      2.996352e+00\nmin     -4.543151e+00\n25%     -2.364709e+00\n50%     -1.251956e-01\n75%      1.409561e+00\nmax      6.872711e+00\nName: mpg, dtype: float64"
          },
          "metadata": {}
        }
      ]
    },
    {
      "metadata": {
        "id": "3xUTBgGWHGnL"
      },
      "cell_type": "markdown",
      "source": [
        "R-squared is calculated as 1 - (SSResiduals/SSTotal) were SSResiduals is the sum of the squares of the model residuals and SSTotal is the sum of the squares of the difference between each data point and the mean of the data. We could calculate R-squared by hand like this:"
      ]
    },
    {
      "metadata": {
        "trusted": true,
        "id": "6tASBLCBHGnL",
        "outputId": "e6fb1e18-0f41-4f4b-c54b-ae89e14b5edc"
      },
      "cell_type": "code",
      "source": [
        "SSResiduals = (residuals**2).sum()\n",
        "\n",
        "SSTotal = ((mtcars[\"mpg\"] - mtcars[\"mpg\"].mean())**2).sum()\n",
        "\n",
        "# R-squared\n",
        "1 - (SSResiduals/SSTotal)"
      ],
      "execution_count": null,
      "outputs": [
        {
          "output_type": "execute_result",
          "execution_count": 10,
          "data": {
            "text/plain": "0.7528327936582646"
          },
          "metadata": {}
        }
      ]
    },
    {
      "metadata": {
        "id": "_QsFjupvHGnL"
      },
      "cell_type": "markdown",
      "source": [
        "Now that we have a linear model, let's plot the line it fits on our scatterplot to get a sense of how well it fits the data:"
      ]
    },
    {
      "metadata": {
        "trusted": true,
        "id": "0-tUUgBUHGnL",
        "outputId": "74bcf24d-7461-4886-d0dc-23a8fd947b9c"
      },
      "cell_type": "code",
      "source": [
        "\n",
        "mtcars.plot(kind=\"scatter\",\n",
        "           x=\"wt\",\n",
        "           y=\"mpg\",\n",
        "           figsize=(9,9),\n",
        "           color=\"black\",\n",
        "           xlim = (0,7))\n",
        "\n",
        "# Plot regression line\n",
        "plt.plot(mtcars[\"wt\"],      # Explanitory variable\n",
        "         train_prediction,  # Predicted values\n",
        "         color=\"blue\");"
      ],
      "execution_count": null,
      "outputs": [
        {
          "output_type": "display_data",
          "data": {
            "text/plain": "<Figure size 648x648 with 1 Axes>",
            "image/png": "[encoded data removed]"
          },
          "metadata": {}
        }
      ]
    },
    {
      "metadata": {
        "id": "H6NL08FTHGnM"
      },
      "cell_type": "markdown",
      "source": [
        "The regression line looks like a reasonable fit and it follows our intuition: as car weight increases we would expect fuel economy to decline.\n",
        "\n",
        "Outliers can have a large influence on linear regression models: since regression deals with minimizing squared residuals, large residuals have a disproportionately large influence on the model. Plotting the result helps us detect influential outliers. In this case there does not appear to be any influential outliers. Let's add an outlier--a super heavy fuel efficient car--and plot a new regression model:"
      ]
    },
    {
      "metadata": {
        "trusted": true,
        "id": "K1CXAHvzHGnM",
        "outputId": "e426e476-79f6-44d7-99cb-9f398ed8d78c"
      },
      "cell_type": "code",
      "source": [
        "mtcars_subset = mtcars[[\"mpg\",\"wt\"]]\n",
        "\n",
        "super_car = pd.DataFrame({\"mpg\":50,\"wt\":10}, index=[\"super\"])\n",
        "\n",
        "new_cars = mtcars_subset.append(super_car)\n",
        "\n",
        "# Initialize model\n",
        "regression_model = linear_model.LinearRegression()\n",
        "\n",
        "# Train the model using the new_cars data\n",
        "regression_model.fit(X = pd.DataFrame(new_cars[\"wt\"]),\n",
        "                     y = new_cars[\"mpg\"])\n",
        "\n",
        "train_prediction2 = regression_model.predict(X = pd.DataFrame(new_cars[\"wt\"]))\n",
        "\n",
        "# Plot the new model\n",
        "new_cars.plot(kind=\"scatter\",\n",
        "           x=\"wt\",\n",
        "           y=\"mpg\",\n",
        "           figsize=(9,9),\n",
        "           color=\"black\", xlim=(1,11), ylim=(10,52))\n",
        "\n",
        "# Plot regression line\n",
        "plt.plot(new_cars[\"wt\"],     # Explanatory variable\n",
        "         train_prediction2,  # Predicted values\n",
        "         color=\"blue\");"
      ],
      "execution_count": null,
      "outputs": [
        {
          "output_type": "display_data",
          "data": {
            "text/plain": "<Figure size 648x648 with 1 Axes>",
            "image/png": "[encoded data removed]"
          },
          "metadata": {}
        }
      ]
    },
    {
      "metadata": {
        "id": "39xyi2U4HGnM"
      },
      "cell_type": "markdown",
      "source": [
        "Although this is an extreme, contrived case, the plot above illustrates how much influence a single outlier can have on a linear regression model.\n",
        "\n",
        "In a well-behaved linear regression model, we'd like the residuals to be roughly normally distributed. That is, we'd like a roughly even spread of error above and below the regression line. We can investigate the normality of residuals with a Q-Q (quantile-quantile) plot. Make a qqplot by passing the residuals to the stats.probplot() function in the scipy.stats library:"
      ]
    },
    {
      "metadata": {
        "trusted": true,
        "id": "cgq7VHsfHGnM",
        "outputId": "57b02a90-0ab8-4888-9d4e-e5f99c80b92f"
      },
      "cell_type": "code",
      "source": [
        "plt.figure(figsize=(9,9))\n",
        "\n",
        "stats.probplot(residuals, dist=\"norm\", plot=plt);"
      ],
      "execution_count": null,
      "outputs": [
        {
          "output_type": "display_data",
          "data": {
            "text/plain": "<Figure size 648x648 with 1 Axes>",
            "image/png": "[encoded data removed]"
          },
          "metadata": {}
        }
      ]
    },
    {
      "metadata": {
        "id": "vh2rUy07HGnM"
      },
      "cell_type": "markdown",
      "source": [
        "When residuals are normally distributed, they tend to lie along the straight line on the Q-Q plot. In this case residuals appear to follow a slightly non-linear pattern: the residuals are bowed a bit away from the normality line on each end. This is an indication that simple straight line might not be sufficient to fully describe the relationship between weight and mpg.\n",
        "\n",
        "After making model predictions, it is useful to have some sort of metric to evaluate oh well the model performed. Adjusted R-squared is one useful measure, but it only applies to the regression model itself: we'd like some universal evaluation metric that lets us compare the performance of different types of models. Root mean squared error (RMSE) is a common evaluation metric for predictions involving real numbers. Root mean squared error is square root of the average of the squared error (residuals.). If you recall, we wrote a function to calculate RMSE way back in lesson lesson 12:"
      ]
    },
    {
      "metadata": {
        "trusted": true,
        "id": "2PuLMSJhHGnN",
        "outputId": "eeb1d950-2ef3-4d82-e6cd-a3d9ff0d3138"
      },
      "cell_type": "code",
      "source": [
        "def rmse(predicted, targets):\n",
        "    \"\"\"\n",
        "    Computes root mean squared error of two numpy ndarrays\n",
        "\n",
        "    Args:\n",
        "        predicted: an ndarray of predictions\n",
        "        targets: an ndarray of target values\n",
        "\n",
        "    Returns:\n",
        "        The root mean squared error as a float\n",
        "    \"\"\"\n",
        "    return (np.sqrt(np.mean((targets-predicted)**2)))\n",
        "\n",
        "rmse(train_prediction, mtcars[\"mpg\"])"
      ],
      "execution_count": null,
      "outputs": [
        {
          "output_type": "execute_result",
          "execution_count": 14,
          "data": {
            "text/plain": "2.949162685955028"
          },
          "metadata": {}
        }
      ]
    },
    {
      "metadata": {
        "id": "ovkUvaV7HGnN"
      },
      "cell_type": "markdown",
      "source": [
        "Instead of defining your own RMSE function, you can use the scikit-learn library's mean squared error function and take the square root of the result:"
      ]
    },
    {
      "metadata": {
        "trusted": true,
        "id": "KHi8D-A_HGnN",
        "outputId": "b985bd80-97e8-49fc-f3ed-ff9fd982278f"
      },
      "cell_type": "code",
      "source": [
        "from sklearn.metrics import mean_squared_error\n",
        "\n",
        "RMSE = mean_squared_error(train_prediction, mtcars[\"mpg\"])**0.5\n",
        "\n",
        "RMSE"
      ],
      "execution_count": null,
      "outputs": [
        {
          "output_type": "execute_result",
          "execution_count": 15,
          "data": {
            "text/plain": "2.949162685955028"
          },
          "metadata": {}
        }
      ]
    },
    {
      "metadata": {
        "id": "bypzOP8IHGnN"
      },
      "cell_type": "markdown",
      "source": [
        "# Polynomial Regression"
      ]
    },
    {
      "metadata": {
        "id": "Pt9oh8tKHGnO"
      },
      "cell_type": "markdown",
      "source": [
        "Variables often exhibit non-linear relationships that can't be fit well with a straight line. In these cases, we can use linear regression to fit a curved line the data by adding extra higher order terms (squared, cubic, etc.) to the model. A linear regression that involves higher order terms is known as \"polynomial regression.\""
      ]
    },
    {
      "metadata": {
        "trusted": true,
        "id": "-iQn6CQqHGnO",
        "outputId": "ccf918db-c368-4606-d57c-515cbd2de781"
      },
      "cell_type": "code",
      "source": [
        "# Initialize model\n",
        "poly_model = linear_model.LinearRegression()\n",
        "\n",
        "# Make a DataFrame of predictor variables\n",
        "predictors = pd.DataFrame([mtcars[\"wt\"],           # Include weight\n",
        "                           mtcars[\"wt\"]**2]).T     # Include weight squared\n",
        "\n",
        "# Train the model using the new_cars data\n",
        "poly_model.fit(X = predictors,\n",
        "               y = mtcars[\"mpg\"])\n",
        "\n",
        "# Check trained model y-intercept\n",
        "print(\"Model intercept\")\n",
        "print(poly_model.intercept_)\n",
        "\n",
        "# Check trained model coefficients (scaling factor given to \"wt\")\n",
        "print(\"Model Coefficients\")\n",
        "print(poly_model.coef_)\n",
        "\n",
        "# Check R-squared\n",
        "print(\"Model Accuracy:\")\n",
        "print(poly_model.score(X = predictors,\n",
        "                 y = mtcars[\"mpg\"]))"
      ],
      "execution_count": null,
      "outputs": [
        {
          "output_type": "stream",
          "text": "Model intercept\n49.93081094945181\nModel Coefficients\n[-13.38033708   1.17108689]\nModel Accuracy:\n0.8190613581384095\n",
          "name": "stdout"
        }
      ]
    },
    {
      "metadata": {
        "id": "2pN5LFK-HGnO"
      },
      "cell_type": "markdown",
      "source": [
        "The output shows us that including the weight squared term appears to improve the model's performance because the R-squared increased from 0.75 to 0.8190. It should be noted, however, that adding more variables to a linear regression model can never cause R-squared to decrease, so we only want to add variables if there is a substantial improvement in performance.\n",
        "\n",
        "Let's plot the curved line defined by the new model to see if the fit looks better than the old one. To start off, let's create a function that takes an array of x values, model coefficients and an intercept term and returns the x values and fitted y values corresponding to those x values."
      ]
    },
    {
      "metadata": {
        "trusted": true,
        "id": "YeciBVekHGnO",
        "outputId": "c25d06f1-3b7a-4f29-ef62-2e55a26f5330"
      },
      "cell_type": "code",
      "source": [
        "# Plot the curve from 1.5 to 5.5\n",
        "poly_line_range = np.arange(1.5, 5.5, 0.1)\n",
        "\n",
        "# Get first and second order predictors from range\n",
        "poly_predictors = pd.DataFrame([poly_line_range,\n",
        "                               poly_line_range**2]).T\n",
        "\n",
        "# Get corresponding y values from the model\n",
        "y_values = poly_model.predict(X = poly_predictors)\n",
        "\n",
        "mtcars.plot(kind=\"scatter\",\n",
        "           x=\"wt\",\n",
        "           y=\"mpg\",\n",
        "           figsize=(9,9),\n",
        "           color=\"black\",\n",
        "           xlim = (0,7))\n",
        "\n",
        "# Plot curve line\n",
        "plt.plot(poly_line_range,   # X-axis range\n",
        "         y_values,          # Predicted values\n",
        "         color=\"blue\");"
      ],
      "execution_count": null,
      "outputs": [
        {
          "output_type": "display_data",
          "data": {
            "text/plain": "<Figure size 648x648 with 1 Axes>",
            "image/png": "[encoded data removed]"
          },
          "metadata": {}
        }
      ]
    },
    {
      "metadata": {
        "id": "AU7kPr89HGnP"
      },
      "cell_type": "markdown",
      "source": [
        "The quadratic function seems to fit the data a little better than the linear one. Let's investigate further by using the new model to make predictions on the original data and check the root mean squared error:"
      ]
    },
    {
      "metadata": {
        "trusted": true,
        "id": "0dtAoX6KHGnP",
        "outputId": "be4f8c78-57ae-443e-a1e4-5e227215a5b3"
      },
      "cell_type": "code",
      "source": [
        "preds = poly_model.predict(X=predictors)\n",
        "\n",
        "rmse(preds , mtcars[\"mpg\"])"
      ],
      "execution_count": null,
      "outputs": [
        {
          "output_type": "execute_result",
          "execution_count": 21,
          "data": {
            "text/plain": "2.5233004724610786"
          },
          "metadata": {}
        }
      ]
    },
    {
      "metadata": {
        "id": "gOdEzZkXHGnQ"
      },
      "cell_type": "markdown",
      "source": [
        "Since the RMSE of the quadratic model is lower than the old one and the adjusted R-squared is higher, it is probably a better model. We do, however, have to be careful about overfitting the training data.\n",
        "\n",
        "Overfitting describes a situation where our model fits the data we use to create it (training data) too closely, resulting in poor generalization to new data. This is why we generally don't want to use training data to evaluate a model: it gives us a biased, usually overly optimistic evaluation. One of the strengths of first and second order linear regression is that they are so simple, they are unlikely to overfit data very much. The more complex the model we create and the more freedom it has to fit the training data, the greater risk we run of overfitting. For example, we could keep including more polynomial terms in our regression model to fit the training data more closely and achieve lower RMSE scores against the training set, but this would almost certainly not generalize well to new data. Let's illustrate this point by fitting a 10th order model to the mtcars data:"
      ]
    },
    {
      "metadata": {
        "trusted": true,
        "id": "FESIQ332HGnQ",
        "outputId": "9978d289-1780-48b6-a7b8-226ffc51ceff"
      },
      "cell_type": "code",
      "source": [
        "# Initialize model\n",
        "poly_model = linear_model.LinearRegression()\n",
        "\n",
        "# Make a DataFrame of predictor variables\n",
        "predictors = pd.DataFrame([mtcars[\"wt\"],\n",
        "                           mtcars[\"wt\"]**2,\n",
        "                           mtcars[\"wt\"]**3,\n",
        "                           mtcars[\"wt\"]**4,\n",
        "                           mtcars[\"wt\"]**5,\n",
        "                           mtcars[\"wt\"]**6,\n",
        "                           mtcars[\"wt\"]**7,\n",
        "                           mtcars[\"wt\"]**8,\n",
        "                           mtcars[\"wt\"]**9,\n",
        "                           mtcars[\"wt\"]**10]).T\n",
        "\n",
        "# Train the model using the new_cars data\n",
        "poly_model.fit(X = predictors,\n",
        "               y = mtcars[\"mpg\"])\n",
        "\n",
        "# Check trained model y-intercept\n",
        "print(\"Model intercept\")\n",
        "print(poly_model.intercept_)\n",
        "\n",
        "# Check trained model coefficients (scaling factor given to \"wt\")\n",
        "print(\"Model Coefficients\")\n",
        "print(poly_model.coef_)\n",
        "\n",
        "# Check R-squared\n",
        "poly_model.score(X = predictors,\n",
        "                 y = mtcars[\"mpg\"])"
      ],
      "execution_count": null,
      "outputs": [
        {
          "output_type": "stream",
          "text": "Model intercept\n-14921.120647946558\nModel Coefficients\n[ 6.45813583e+04 -1.20086135e+05  1.26931932e+05 -8.46598480e+04\n  3.73155209e+04 -1.10334758e+04  2.16590409e+03 -2.70730550e+02\n  1.94974165e+01 -6.15515447e-01]\n",
          "name": "stdout"
        },
        {
          "output_type": "execute_result",
          "execution_count": 22,
          "data": {
            "text/plain": "0.8702106585933677"
          },
          "metadata": {}
        }
      ]
    },
    {
      "metadata": {
        "id": "zQ_AgLVbHGnR"
      },
      "cell_type": "markdown",
      "source": [
        "Notice the R-squared score has increased substantially from our quadratic model. Let's plot the best fit line to investigate what the model is doing:"
      ]
    },
    {
      "metadata": {
        "trusted": true,
        "id": "HWbFY207HGnS",
        "outputId": "a97783e1-4f23-433e-cecd-a7c0f04fced1"
      },
      "cell_type": "code",
      "source": [
        "p_range = np.arange(1.5, 5.45, 0.01)\n",
        "\n",
        "poly_predictors = pd.DataFrame([p_range, p_range**2, p_range**3,\n",
        "                              p_range**4, p_range**5, p_range**6, p_range**7,\n",
        "                              p_range**8, p_range**9, p_range**10]).T\n",
        "\n",
        "# Get corresponding y values from the model\n",
        "y_values = poly_model.predict(X = poly_predictors)\n",
        "\n",
        "mtcars.plot(kind=\"scatter\",\n",
        "           x=\"wt\",\n",
        "           y=\"mpg\",\n",
        "           figsize=(9,9),\n",
        "           color=\"black\",\n",
        "           xlim = (0,7))\n",
        "\n",
        "# Plot curve line\n",
        "plt.plot(p_range,   # X-axis range\n",
        "         y_values,          # Predicted values\n",
        "         color=\"blue\");"
      ],
      "execution_count": null,
      "outputs": [
        {
          "output_type": "display_data",
          "data": {
            "text/plain": "<Figure size 648x648 with 1 Axes>",
            "image/png": "[encoded data removed]"
          },
          "metadata": {}
        }
      ]
    },
    {
      "metadata": {
        "id": "9k1QU8lkHGnS"
      },
      "cell_type": "markdown",
      "source": [
        "Notice how the 10th order polynomial model curves wildly in some places to fit the training data. While this model happens to yield a closer fit to the training data, it will almost certainly fail to generalize well to new data as it leads to absurd predictions such as a car having less than 0 mpg if it weighs 5000lbs."
      ]
    },
    {
      "metadata": {
        "id": "dhHzni16HGnS"
      },
      "cell_type": "markdown",
      "source": [
        "# Multiple Linear Regression"
      ]
    },
    {
      "metadata": {
        "id": "ofppQe4aHGnW"
      },
      "cell_type": "markdown",
      "source": [
        "When faced with a predictive modeling task, you'll often have several variables in your data that may help explain variation in the response variable. You can include more explanatory variables in a linear regression model by including more columns in the data frame you pass to the model training function. Let's make a new model that adds the horsepower variable to our original model:"
      ]
    },
    {
      "metadata": {
        "trusted": true,
        "id": "hiZa3x1EHGnW",
        "outputId": "0664044d-dde9-4b61-c4a7-a6fb2282961a"
      },
      "cell_type": "code",
      "source": [
        "# Initialize model\n",
        "multi_reg_model = linear_model.LinearRegression()\n",
        "\n",
        "# Train the model using the mtcars data\n",
        "multi_reg_model.fit(X = mtcars.loc[:,[\"wt\",\"hp\"]],\n",
        "                     y = mtcars[\"mpg\"])\n",
        "\n",
        "# Check trained model y-intercept\n",
        "print(multi_reg_model.intercept_)\n",
        "\n",
        "# Check trained model coefficients (scaling factor given to \"wt\")\n",
        "print(multi_reg_model.coef_)\n",
        "\n",
        "# Check R-squared\n",
        "multi_reg_model.score(X = mtcars.loc[:,[\"wt\",\"hp\"]],\n",
        "                      y = mtcars[\"mpg\"])"
      ],
      "execution_count": null,
      "outputs": [
        {
          "output_type": "stream",
          "text": "37.22727011644721\n[-3.87783074 -0.03177295]\n",
          "name": "stdout"
        },
        {
          "output_type": "execute_result",
          "execution_count": 26,
          "data": {
            "text/plain": "0.8267854518827914"
          },
          "metadata": {}
        }
      ]
    },
    {
      "metadata": {
        "id": "YhGotvbEHGnX"
      },
      "cell_type": "markdown",
      "source": [
        "The improved R-squared score suggests horsepower has a linear relationship with mpg. Let's investigate with a plot:"
      ]
    },
    {
      "metadata": {
        "trusted": true,
        "id": "wphkQC5THGnX",
        "outputId": "032ce5e6-01e5-4e11-c9f2-6a09451ce835"
      },
      "cell_type": "code",
      "source": [
        "mtcars.plot(kind=\"scatter\",\n",
        "           x=\"hp\",\n",
        "           y=\"mpg\",\n",
        "           figsize=(9,9),\n",
        "           color=\"black\");"
      ],
      "execution_count": null,
      "outputs": [
        {
          "output_type": "display_data",
          "data": {
            "text/plain": "<Figure size 648x648 with 1 Axes>",
            "image/png": "[encoded data removed]"
          },
          "metadata": {}
        }
      ]
    },
    {
      "metadata": {
        "id": "70pAGVFmHGnY"
      },
      "cell_type": "markdown",
      "source": [
        "While mpg does tend to decline with horsepower, the relationship appears more curved than linear so adding polynomial terms to our multiple regression model could yield a better fit:"
      ]
    },
    {
      "metadata": {
        "trusted": true,
        "id": "RCssDEeBHGnY",
        "outputId": "6a72bb25-664b-49a4-dc5a-93e913970ac0"
      },
      "cell_type": "code",
      "source": [
        "# Initialize model\n",
        "multi_reg_model = linear_model.LinearRegression()\n",
        "\n",
        "# Include squared terms\n",
        "poly_predictors = pd.DataFrame([mtcars[\"wt\"],\n",
        "                                mtcars[\"hp\"],\n",
        "                                mtcars[\"wt\"]**2,\n",
        "                                mtcars[\"hp\"]**2]).T\n",
        "\n",
        "# Train the model using the mtcars data\n",
        "multi_reg_model.fit(X = poly_predictors,\n",
        "                    y = mtcars[\"mpg\"])\n",
        "\n",
        "# Check R-squared\n",
        "print(\"R-Squared\")\n",
        "print( multi_reg_model.score(X = poly_predictors ,\n",
        "                      y = mtcars[\"mpg\"]) )\n",
        "\n",
        "# Check RMSE\n",
        "print(\"RMSE\")\n",
        "print(rmse(multi_reg_model.predict(poly_predictors),mtcars[\"mpg\"]))"
      ],
      "execution_count": null,
      "outputs": [
        {
          "output_type": "stream",
          "text": "R-Squared\n0.8907279549670641\nRMSE\n1.9609108134176985\n",
          "name": "stdout"
        }
      ]
    },
    {
      "metadata": {
        "id": "zXJuITvfHGnZ"
      },
      "cell_type": "markdown",
      "source": [
        "The new R-squared and lower RMSE suggest this is a better model than any we made previously and we wouldn't be too concerned about overfitting since it only includes 2 variables and 2 squared terms. Note that when working with multidimensional models, it becomes difficult to visualize results, so you rely heavily on numeric output.\n",
        "\n",
        "We could continue adding more explanatory variables in an attempt to improve the model. Adding variables that have little relationship with the response or including variables that are too closely related to one another can hurt your results when using linear regression. You should also be wary of numeric variables that take on few unique values since they can act more like categorical variables than numeric ones."
      ]
    },
    {
      "metadata": {
        "id": "BuFsh74YHGnZ"
      },
      "cell_type": "markdown",
      "source": [
        "# Wrap Up"
      ]
    },
    {
      "metadata": {
        "id": "cpX2AFL6HGna"
      },
      "cell_type": "markdown",
      "source": [
        "Linear regression is one of the most common techniques for making real numbered predictions from data. It is a good place to start any time you need to make a numeric prediction. Next time we'll revisit the titanic survival data set and focus classification: assigning observations to categories."
      ]
    },
    {
      "metadata": {
        "id": "U-4MIaMxHGna"
      },
      "cell_type": "markdown",
      "source": [
        "# Next Lesson: [Python for Data 28: Logistic Regression](https://www.kaggle.com/hamelg/python-for-data-28-logistic-regression)\n",
        "[back to index](https://www.kaggle.com/hamelg/python-for-data-analysis-index)"
      ]
    }
  ],
  "metadata": {
    "kernelspec": {
      "display_name": "Python 3",
      "language": "python",
      "name": "python3"
    },
    "language_info": {
      "name": "python",
      "version": "3.6.4",
      "mimetype": "text/x-python",
      "codemirror_mode": {
        "name": "ipython",
        "version": 3
      },
      "pygments_lexer": "ipython3",
      "nbconvert_exporter": "python",
      "file_extension": ".py"
    },
    "colab": {
      "name": "Python for Data 27: Linear Regression",
      "provenance": [],
      "include_colab_link": true
    }
  },
  "nbformat": 4,
  "nbformat_minor": 0
}