{
  "nbformat": 4,
  "nbformat_minor": 0,
  "metadata": {
    "colab": {
      "provenance": [],
      "authorship_tag": "ABX9TyOBZYUjKocGZ7jKYg+eDAOh",
      "include_colab_link": true
    },
    "kernelspec": {
      "name": "python3",
      "display_name": "Python 3"
    },
    "language_info": {
      "name": "python"
    }
  },
  "cells": [
    {
      "cell_type": "markdown",
      "metadata": {
        "id": "view-in-github",
        "colab_type": "text"
      },
      "source": [
        "<a href=\"https://colab.research.google.com/github/tatv047/Data-Science/blob/main/Basic_Statistics.ipynb\" target=\"_parent\"><img src=\"https://colab.research.google.com/assets/colab-badge.svg\" alt=\"Open In Colab\"/></a>"
      ]
    },
    {
      "cell_type": "markdown",
      "source": [
        "link to lesson: https://www.kaggle.com/code/hamelg/python-for-data-21-descriptive-statistics/notebook\n",
        "\n",
        "# Descriptive Statistics\n",
        "\n",
        "Descriptive statistics are measures that summarize important features of data, often with a single number. Producing descriptive statistics is a common first step to take after cleaning and preparing a data set for analysis. We've already seen several examples of deceptive statistics in earlier lessons, such as means and medians. In this lesson, we'll review some of these functions and explore several new ones.\n",
        "\n",
        "## Measure of Center\n",
        "\n",
        "Measures of center are statistics that give us a sense of the \"middle\" of a numeric variable. In other words, centrality measures give you a sense of a typical value you'd expect to see. Common measures of center include the mean, median and mode.\n",
        "\n",
        "The **mean** is simply an average:\n",
        "the sum of the values divided by the total number of records. As we've seen in previous lessons we can use df.mean() to get the mean of each column in a DataFrame:\n",
        "\n"
      ],
      "metadata": {
        "id": "S3HnXptRN9zr"
      }
    },
    {
      "cell_type": "code",
      "execution_count": 7,
      "metadata": {
        "id": "nK-G7ZTmMH4m"
      },
      "outputs": [],
      "source": [
        "import numpy as np\n",
        "import pandas as pd\n",
        "import matplotlib.pyplot as plt"
      ]
    },
    {
      "cell_type": "code",
      "source": [
        "mtcars = pd.read_csv(\"/content/sample_data/mtcars.csv\")\n",
        "mtcars = mtcars.rename(columns={'Unnamed: 0': 'model'})\n",
        "mtcars.set_index('model', inplace=True)\n",
        "mtcars.head(5)"
      ],
      "metadata": {
        "colab": {
          "base_uri": "https://localhost:8080/",
          "height": 238
        },
        "id": "SoV4pMkxPYd-",
        "outputId": "bf9bf568-8a04-487a-b544-0ba33c2acc8e"
      },
      "execution_count": 8,
      "outputs": [
        {
          "output_type": "execute_result",
          "data": {
            "text/plain": [
              "                    mpg  cyl   disp   hp  drat     wt   qsec  vs  am  gear  \\\n",
              "model                                                                        \n",
              "Mazda RX4          21.0    6  160.0  110  3.90  2.620  16.46   0   1     4   \n",
              "Mazda RX4 Wag      21.0    6  160.0  110  3.90  2.875  17.02   0   1     4   \n",
              "Datsun 710         22.8    4  108.0   93  3.85  2.320  18.61   1   1     4   \n",
              "Hornet 4 Drive     21.4    6  258.0  110  3.08  3.215  19.44   1   0     3   \n",
              "Hornet Sportabout  18.7    8  360.0  175  3.15  3.440  17.02   0   0     3   \n",
              "\n",
              "                   carb  \n",
              "model                    \n",
              "Mazda RX4             4  \n",
              "Mazda RX4 Wag         4  \n",
              "Datsun 710            1  \n",
              "Hornet 4 Drive        1  \n",
              "Hornet Sportabout     2  "
            ],
            "text/html": [
              "\n",
              "  <div id=\"df-c700f921-9ff7-4210-a539-d3f534275f69\" class=\"colab-df-container\">\n",
              "    <div>\n",
              "<style scoped>\n",
              "    .dataframe tbody tr th:only-of-type {\n",
              "        vertical-align: middle;\n",
              "    }\n",
              "\n",
              "    .dataframe tbody tr th {\n",
              "        vertical-align: top;\n",
              "    }\n",
              "\n",
              "    .dataframe thead th {\n",
              "        text-align: right;\n",
              "    }\n",
              "</style>\n",
              "<table border=\"1\" class=\"dataframe\">\n",
              "  <thead>\n",
              "    <tr style=\"text-align: right;\">\n",
              "      <th></th>\n",
              "      <th>mpg</th>\n",
              "      <th>cyl</th>\n",
              "      <th>disp</th>\n",
              "      <th>hp</th>\n",
              "      <th>drat</th>\n",
              "      <th>wt</th>\n",
              "      <th>qsec</th>\n",
              "      <th>vs</th>\n",
              "      <th>am</th>\n",
              "      <th>gear</th>\n",
              "      <th>carb</th>\n",
              "    </tr>\n",
              "    <tr>\n",
              "      <th>model</th>\n",
              "      <th></th>\n",
              "      <th></th>\n",
              "      <th></th>\n",
              "      <th></th>\n",
              "      <th></th>\n",
              "      <th></th>\n",
              "      <th></th>\n",
              "      <th></th>\n",
              "      <th></th>\n",
              "      <th></th>\n",
              "      <th></th>\n",
              "    </tr>\n",
              "  </thead>\n",
              "  <tbody>\n",
              "    <tr>\n",
              "      <th>Mazda RX4</th>\n",
              "      <td>21.0</td>\n",
              "      <td>6</td>\n",
              "      <td>160.0</td>\n",
              "      <td>110</td>\n",
              "      <td>3.90</td>\n",
              "      <td>2.620</td>\n",
              "      <td>16.46</td>\n",
              "      <td>0</td>\n",
              "      <td>1</td>\n",
              "      <td>4</td>\n",
              "      <td>4</td>\n",
              "    </tr>\n",
              "    <tr>\n",
              "      <th>Mazda RX4 Wag</th>\n",
              "      <td>21.0</td>\n",
              "      <td>6</td>\n",
              "      <td>160.0</td>\n",
              "      <td>110</td>\n",
              "      <td>3.90</td>\n",
              "      <td>2.875</td>\n",
              "      <td>17.02</td>\n",
              "      <td>0</td>\n",
              "      <td>1</td>\n",
              "      <td>4</td>\n",
              "      <td>4</td>\n",
              "    </tr>\n",
              "    <tr>\n",
              "      <th>Datsun 710</th>\n",
              "      <td>22.8</td>\n",
              "      <td>4</td>\n",
              "      <td>108.0</td>\n",
              "      <td>93</td>\n",
              "      <td>3.85</td>\n",
              "      <td>2.320</td>\n",
              "      <td>18.61</td>\n",
              "      <td>1</td>\n",
              "      <td>1</td>\n",
              "      <td>4</td>\n",
              "      <td>1</td>\n",
              "    </tr>\n",
              "    <tr>\n",
              "      <th>Hornet 4 Drive</th>\n",
              "      <td>21.4</td>\n",
              "      <td>6</td>\n",
              "      <td>258.0</td>\n",
              "      <td>110</td>\n",
              "      <td>3.08</td>\n",
              "      <td>3.215</td>\n",
              "      <td>19.44</td>\n",
              "      <td>1</td>\n",
              "      <td>0</td>\n",
              "      <td>3</td>\n",
              "      <td>1</td>\n",
              "    </tr>\n",
              "    <tr>\n",
              "      <th>Hornet Sportabout</th>\n",
              "      <td>18.7</td>\n",
              "      <td>8</td>\n",
              "      <td>360.0</td>\n",
              "      <td>175</td>\n",
              "      <td>3.15</td>\n",
              "      <td>3.440</td>\n",
              "      <td>17.02</td>\n",
              "      <td>0</td>\n",
              "      <td>0</td>\n",
              "      <td>3</td>\n",
              "      <td>2</td>\n",
              "    </tr>\n",
              "  </tbody>\n",
              "</table>\n",
              "</div>\n",
              "    <div class=\"colab-df-buttons\">\n",
              "\n",
              "  <div class=\"colab-df-container\">\n",
              "    <button class=\"colab-df-convert\" onclick=\"convertToInteractive('df-c700f921-9ff7-4210-a539-d3f534275f69')\"\n",
              "            title=\"Convert this dataframe to an interactive table.\"\n",
              "            style=\"display:none;\">\n",
              "\n",
              "  <svg xmlns=\"http://www.w3.org/2000/svg\" height=\"24px\" viewBox=\"0 -960 960 960\">\n",
              "    <path d=\"M120-120v-720h720v720H120Zm60-500h600v-160H180v160Zm220 220h160v-160H400v160Zm0 220h160v-160H400v160ZM180-400h160v-160H180v160Zm440 0h160v-160H620v160ZM180-180h160v-160H180v160Zm440 0h160v-160H620v160Z\"/>\n",
              "  </svg>\n",
              "    </button>\n",
              "\n",
              "  <style>\n",
              "    .colab-df-container {\n",
              "      display:flex;\n",
              "      gap: 12px;\n",
              "    }\n",
              "\n",
              "    .colab-df-convert {\n",
              "      background-color: #E8F0FE;\n",
              "      border: none;\n",
              "      border-radius: 50%;\n",
              "      cursor: pointer;\n",
              "      display: none;\n",
              "      fill: #1967D2;\n",
              "      height: 32px;\n",
              "      padding: 0 0 0 0;\n",
              "      width: 32px;\n",
              "    }\n",
              "\n",
              "    .colab-df-convert:hover {\n",
              "      background-color: #E2EBFA;\n",
              "      box-shadow: 0px 1px 2px rgba(60, 64, 67, 0.3), 0px 1px 3px 1px rgba(60, 64, 67, 0.15);\n",
              "      fill: #174EA6;\n",
              "    }\n",
              "\n",
              "    .colab-df-buttons div {\n",
              "      margin-bottom: 4px;\n",
              "    }\n",
              "\n",
              "    [theme=dark] .colab-df-convert {\n",
              "      background-color: #3B4455;\n",
              "      fill: #D2E3FC;\n",
              "    }\n",
              "\n",
              "    [theme=dark] .colab-df-convert:hover {\n",
              "      background-color: #434B5C;\n",
              "      box-shadow: 0px 1px 3px 1px rgba(0, 0, 0, 0.15);\n",
              "      filter: drop-shadow(0px 1px 2px rgba(0, 0, 0, 0.3));\n",
              "      fill: #FFFFFF;\n",
              "    }\n",
              "  </style>\n",
              "\n",
              "    <script>\n",
              "      const buttonEl =\n",
              "        document.querySelector('#df-c700f921-9ff7-4210-a539-d3f534275f69 button.colab-df-convert');\n",
              "      buttonEl.style.display =\n",
              "        google.colab.kernel.accessAllowed ? 'block' : 'none';\n",
              "\n",
              "      async function convertToInteractive(key) {\n",
              "        const element = document.querySelector('#df-c700f921-9ff7-4210-a539-d3f534275f69');\n",
              "        const dataTable =\n",
              "          await google.colab.kernel.invokeFunction('convertToInteractive',\n",
              "                                                    [key], {});\n",
              "        if (!dataTable) return;\n",
              "\n",
              "        const docLinkHtml = 'Like what you see? Visit the ' +\n",
              "          '<a target=\"_blank\" href=https://colab.research.google.com/notebooks/data_table.ipynb>data table notebook</a>'\n",
              "          + ' to learn more about interactive tables.';\n",
              "        element.innerHTML = '';\n",
              "        dataTable['output_type'] = 'display_data';\n",
              "        await google.colab.output.renderOutput(dataTable, element);\n",
              "        const docLink = document.createElement('div');\n",
              "        docLink.innerHTML = docLinkHtml;\n",
              "        element.appendChild(docLink);\n",
              "      }\n",
              "    </script>\n",
              "  </div>\n",
              "\n",
              "\n",
              "<div id=\"df-9a74926b-a983-44b5-b88a-95209ba1580d\">\n",
              "  <button class=\"colab-df-quickchart\" onclick=\"quickchart('df-9a74926b-a983-44b5-b88a-95209ba1580d')\"\n",
              "            title=\"Suggest charts\"\n",
              "            style=\"display:none;\">\n",
              "\n",
              "<svg xmlns=\"http://www.w3.org/2000/svg\" height=\"24px\"viewBox=\"0 0 24 24\"\n",
              "     width=\"24px\">\n",
              "    <g>\n",
              "        <path d=\"M19 3H5c-1.1 0-2 .9-2 2v14c0 1.1.9 2 2 2h14c1.1 0 2-.9 2-2V5c0-1.1-.9-2-2-2zM9 17H7v-7h2v7zm4 0h-2V7h2v10zm4 0h-2v-4h2v4z\"/>\n",
              "    </g>\n",
              "</svg>\n",
              "  </button>\n",
              "\n",
              "<style>\n",
              "  .colab-df-quickchart {\n",
              "      --bg-color: #E8F0FE;\n",
              "      --fill-color: #1967D2;\n",
              "      --hover-bg-color: #E2EBFA;\n",
              "      --hover-fill-color: #174EA6;\n",
              "      --disabled-fill-color: #AAA;\n",
              "      --disabled-bg-color: #DDD;\n",
              "  }\n",
              "\n",
              "  [theme=dark] .colab-df-quickchart {\n",
              "      --bg-color: #3B4455;\n",
              "      --fill-color: #D2E3FC;\n",
              "      --hover-bg-color: #434B5C;\n",
              "      --hover-fill-color: #FFFFFF;\n",
              "      --disabled-bg-color: #3B4455;\n",
              "      --disabled-fill-color: #666;\n",
              "  }\n",
              "\n",
              "  .colab-df-quickchart {\n",
              "    background-color: var(--bg-color);\n",
              "    border: none;\n",
              "    border-radius: 50%;\n",
              "    cursor: pointer;\n",
              "    display: none;\n",
              "    fill: var(--fill-color);\n",
              "    height: 32px;\n",
              "    padding: 0;\n",
              "    width: 32px;\n",
              "  }\n",
              "\n",
              "  .colab-df-quickchart:hover {\n",
              "    background-color: var(--hover-bg-color);\n",
              "    box-shadow: 0 1px 2px rgba(60, 64, 67, 0.3), 0 1px 3px 1px rgba(60, 64, 67, 0.15);\n",
              "    fill: var(--button-hover-fill-color);\n",
              "  }\n",
              "\n",
              "  .colab-df-quickchart-complete:disabled,\n",
              "  .colab-df-quickchart-complete:disabled:hover {\n",
              "    background-color: var(--disabled-bg-color);\n",
              "    fill: var(--disabled-fill-color);\n",
              "    box-shadow: none;\n",
              "  }\n",
              "\n",
              "  .colab-df-spinner {\n",
              "    border: 2px solid var(--fill-color);\n",
              "    border-color: transparent;\n",
              "    border-bottom-color: var(--fill-color);\n",
              "    animation:\n",
              "      spin 1s steps(1) infinite;\n",
              "  }\n",
              "\n",
              "  @keyframes spin {\n",
              "    0% {\n",
              "      border-color: transparent;\n",
              "      border-bottom-color: var(--fill-color);\n",
              "      border-left-color: var(--fill-color);\n",
              "    }\n",
              "    20% {\n",
              "      border-color: transparent;\n",
              "      border-left-color: var(--fill-color);\n",
              "      border-top-color: var(--fill-color);\n",
              "    }\n",
              "    30% {\n",
              "      border-color: transparent;\n",
              "      border-left-color: var(--fill-color);\n",
              "      border-top-color: var(--fill-color);\n",
              "      border-right-color: var(--fill-color);\n",
              "    }\n",
              "    40% {\n",
              "      border-color: transparent;\n",
              "      border-right-color: var(--fill-color);\n",
              "      border-top-color: var(--fill-color);\n",
              "    }\n",
              "    60% {\n",
              "      border-color: transparent;\n",
              "      border-right-color: var(--fill-color);\n",
              "    }\n",
              "    80% {\n",
              "      border-color: transparent;\n",
              "      border-right-color: var(--fill-color);\n",
              "      border-bottom-color: var(--fill-color);\n",
              "    }\n",
              "    90% {\n",
              "      border-color: transparent;\n",
              "      border-bottom-color: var(--fill-color);\n",
              "    }\n",
              "  }\n",
              "</style>\n",
              "\n",
              "  <script>\n",
              "    async function quickchart(key) {\n",
              "      const quickchartButtonEl =\n",
              "        document.querySelector('#' + key + ' button');\n",
              "      quickchartButtonEl.disabled = true;  // To prevent multiple clicks.\n",
              "      quickchartButtonEl.classList.add('colab-df-spinner');\n",
              "      try {\n",
              "        const charts = await google.colab.kernel.invokeFunction(\n",
              "            'suggestCharts', [key], {});\n",
              "      } catch (error) {\n",
              "        console.error('Error during call to suggestCharts:', error);\n",
              "      }\n",
              "      quickchartButtonEl.classList.remove('colab-df-spinner');\n",
              "      quickchartButtonEl.classList.add('colab-df-quickchart-complete');\n",
              "    }\n",
              "    (() => {\n",
              "      let quickchartButtonEl =\n",
              "        document.querySelector('#df-9a74926b-a983-44b5-b88a-95209ba1580d button');\n",
              "      quickchartButtonEl.style.display =\n",
              "        google.colab.kernel.accessAllowed ? 'block' : 'none';\n",
              "    })();\n",
              "  </script>\n",
              "</div>\n",
              "\n",
              "    </div>\n",
              "  </div>\n"
            ],
            "application/vnd.google.colaboratory.intrinsic+json": {
              "type": "dataframe",
              "variable_name": "mtcars",
              "summary": "{\n  \"name\": \"mtcars\",\n  \"rows\": 32,\n  \"fields\": [\n    {\n      \"column\": \"model\",\n      \"properties\": {\n        \"dtype\": \"string\",\n        \"num_unique_values\": 32,\n        \"samples\": [\n          \"Ferrari Dino\",\n          \"Lincoln Continental\",\n          \"Pontiac Firebird\"\n        ],\n        \"semantic_type\": \"\",\n        \"description\": \"\"\n      }\n    },\n    {\n      \"column\": \"mpg\",\n      \"properties\": {\n        \"dtype\": \"number\",\n        \"std\": 6.026948052089104,\n        \"min\": 10.4,\n        \"max\": 33.9,\n        \"num_unique_values\": 25,\n        \"samples\": [\n          17.8,\n          33.9,\n          21.0\n        ],\n        \"semantic_type\": \"\",\n        \"description\": \"\"\n      }\n    },\n    {\n      \"column\": \"cyl\",\n      \"properties\": {\n        \"dtype\": \"number\",\n        \"std\": 1,\n        \"min\": 4,\n        \"max\": 8,\n        \"num_unique_values\": 3,\n        \"samples\": [\n          6,\n          4,\n          8\n        ],\n        \"semantic_type\": \"\",\n        \"description\": \"\"\n      }\n    },\n    {\n      \"column\": \"disp\",\n      \"properties\": {\n        \"dtype\": \"number\",\n        \"std\": 123.93869383138194,\n        \"min\": 71.1,\n        \"max\": 472.0,\n        \"num_unique_values\": 27,\n        \"samples\": [\n          275.8,\n          75.7,\n          472.0\n        ],\n        \"semantic_type\": \"\",\n        \"description\": \"\"\n      }\n    },\n    {\n      \"column\": \"hp\",\n      \"properties\": {\n        \"dtype\": \"number\",\n        \"std\": 68,\n        \"min\": 52,\n        \"max\": 335,\n        \"num_unique_values\": 22,\n        \"samples\": [\n          110,\n          52,\n          180\n        ],\n        \"semantic_type\": \"\",\n        \"description\": \"\"\n      }\n    },\n    {\n      \"column\": \"drat\",\n      \"properties\": {\n        \"dtype\": \"number\",\n        \"std\": 0.5346787360709715,\n        \"min\": 2.76,\n        \"max\": 4.93,\n        \"num_unique_values\": 22,\n        \"samples\": [\n          3.9,\n          4.93,\n          3.07\n        ],\n        \"semantic_type\": \"\",\n        \"description\": \"\"\n      }\n    },\n    {\n      \"column\": \"wt\",\n      \"properties\": {\n        \"dtype\": \"number\",\n        \"std\": 0.9784574429896966,\n        \"min\": 1.513,\n        \"max\": 5.424,\n        \"num_unique_values\": 29,\n        \"samples\": [\n          2.77,\n          1.615,\n          5.25\n        ],\n        \"semantic_type\": \"\",\n        \"description\": \"\"\n      }\n    },\n    {\n      \"column\": \"qsec\",\n      \"properties\": {\n        \"dtype\": \"number\",\n        \"std\": 1.7869432360968431,\n        \"min\": 14.5,\n        \"max\": 22.9,\n        \"num_unique_values\": 30,\n        \"samples\": [\n          15.5,\n          17.42,\n          17.05\n        ],\n        \"semantic_type\": \"\",\n        \"description\": \"\"\n      }\n    },\n    {\n      \"column\": \"vs\",\n      \"properties\": {\n        \"dtype\": \"number\",\n        \"std\": 0,\n        \"min\": 0,\n        \"max\": 1,\n        \"num_unique_values\": 2,\n        \"samples\": [\n          1,\n          0\n        ],\n        \"semantic_type\": \"\",\n        \"description\": \"\"\n      }\n    },\n    {\n      \"column\": \"am\",\n      \"properties\": {\n        \"dtype\": \"number\",\n        \"std\": 0,\n        \"min\": 0,\n        \"max\": 1,\n        \"num_unique_values\": 2,\n        \"samples\": [\n          0,\n          1\n        ],\n        \"semantic_type\": \"\",\n        \"description\": \"\"\n      }\n    },\n    {\n      \"column\": \"gear\",\n      \"properties\": {\n        \"dtype\": \"number\",\n        \"std\": 0,\n        \"min\": 3,\n        \"max\": 5,\n        \"num_unique_values\": 3,\n        \"samples\": [\n          4,\n          3\n        ],\n        \"semantic_type\": \"\",\n        \"description\": \"\"\n      }\n    },\n    {\n      \"column\": \"carb\",\n      \"properties\": {\n        \"dtype\": \"number\",\n        \"std\": 1,\n        \"min\": 1,\n        \"max\": 8,\n        \"num_unique_values\": 6,\n        \"samples\": [\n          4,\n          1\n        ],\n        \"semantic_type\": \"\",\n        \"description\": \"\"\n      }\n    }\n  ]\n}"
            }
          },
          "metadata": {},
          "execution_count": 8
        }
      ]
    },
    {
      "cell_type": "code",
      "source": [
        "mtcars.mean() # Get the mean of each column"
      ],
      "metadata": {
        "colab": {
          "base_uri": "https://localhost:8080/",
          "height": 429
        },
        "id": "hJkKZylrPfct",
        "outputId": "96e07d1e-992c-4f7e-fdf4-27a5f816e355"
      },
      "execution_count": 9,
      "outputs": [
        {
          "output_type": "execute_result",
          "data": {
            "text/plain": [
              "mpg      20.090625\n",
              "cyl       6.187500\n",
              "disp    230.721875\n",
              "hp      146.687500\n",
              "drat      3.596563\n",
              "wt        3.217250\n",
              "qsec     17.848750\n",
              "vs        0.437500\n",
              "am        0.406250\n",
              "gear      3.687500\n",
              "carb      2.812500\n",
              "dtype: float64"
            ],
            "text/html": [
              "<div>\n",
              "<style scoped>\n",
              "    .dataframe tbody tr th:only-of-type {\n",
              "        vertical-align: middle;\n",
              "    }\n",
              "\n",
              "    .dataframe tbody tr th {\n",
              "        vertical-align: top;\n",
              "    }\n",
              "\n",
              "    .dataframe thead th {\n",
              "        text-align: right;\n",
              "    }\n",
              "</style>\n",
              "<table border=\"1\" class=\"dataframe\">\n",
              "  <thead>\n",
              "    <tr style=\"text-align: right;\">\n",
              "      <th></th>\n",
              "      <th>0</th>\n",
              "    </tr>\n",
              "  </thead>\n",
              "  <tbody>\n",
              "    <tr>\n",
              "      <th>mpg</th>\n",
              "      <td>20.090625</td>\n",
              "    </tr>\n",
              "    <tr>\n",
              "      <th>cyl</th>\n",
              "      <td>6.187500</td>\n",
              "    </tr>\n",
              "    <tr>\n",
              "      <th>disp</th>\n",
              "      <td>230.721875</td>\n",
              "    </tr>\n",
              "    <tr>\n",
              "      <th>hp</th>\n",
              "      <td>146.687500</td>\n",
              "    </tr>\n",
              "    <tr>\n",
              "      <th>drat</th>\n",
              "      <td>3.596563</td>\n",
              "    </tr>\n",
              "    <tr>\n",
              "      <th>wt</th>\n",
              "      <td>3.217250</td>\n",
              "    </tr>\n",
              "    <tr>\n",
              "      <th>qsec</th>\n",
              "      <td>17.848750</td>\n",
              "    </tr>\n",
              "    <tr>\n",
              "      <th>vs</th>\n",
              "      <td>0.437500</td>\n",
              "    </tr>\n",
              "    <tr>\n",
              "      <th>am</th>\n",
              "      <td>0.406250</td>\n",
              "    </tr>\n",
              "    <tr>\n",
              "      <th>gear</th>\n",
              "      <td>3.687500</td>\n",
              "    </tr>\n",
              "    <tr>\n",
              "      <th>carb</th>\n",
              "      <td>2.812500</td>\n",
              "    </tr>\n",
              "  </tbody>\n",
              "</table>\n",
              "</div><br><label><b>dtype:</b> float64</label>"
            ]
          },
          "metadata": {},
          "execution_count": 9
        }
      ]
    },
    {
      "cell_type": "markdown",
      "source": [
        "We can also get the means of each row by supplying an axis argument:"
      ],
      "metadata": {
        "id": "h7Wy6ZmlQJ-B"
      }
    },
    {
      "cell_type": "code",
      "source": [
        "mtcars.mean(axis = 1)"
      ],
      "metadata": {
        "colab": {
          "base_uri": "https://localhost:8080/",
          "height": 1000
        },
        "id": "CwbfHLpRQD5e",
        "outputId": "1e6d0200-6a25-4b02-8a35-57b6c312cc10"
      },
      "execution_count": 10,
      "outputs": [
        {
          "output_type": "execute_result",
          "data": {
            "text/plain": [
              "model\n",
              "Mazda RX4              29.907273\n",
              "Mazda RX4 Wag          29.981364\n",
              "Datsun 710             23.598182\n",
              "Hornet 4 Drive         38.739545\n",
              "Hornet Sportabout      53.664545\n",
              "Valiant                35.049091\n",
              "Duster 360             59.720000\n",
              "Merc 240D              24.634545\n",
              "Merc 230               27.233636\n",
              "Merc 280               31.860000\n",
              "Merc 280C              31.787273\n",
              "Merc 450SE             46.430909\n",
              "Merc 450SL             46.500000\n",
              "Merc 450SLC            46.350000\n",
              "Cadillac Fleetwood     66.232727\n",
              "Lincoln Continental    66.058545\n",
              "Chrysler Imperial      65.972273\n",
              "Fiat 128               19.440909\n",
              "Honda Civic            17.742273\n",
              "Toyota Corolla         18.814091\n",
              "Toyota Corona          24.888636\n",
              "Dodge Challenger       47.240909\n",
              "AMC Javelin            46.007727\n",
              "Camaro Z28             58.752727\n",
              "Pontiac Firebird       57.379545\n",
              "Fiat X1-9              18.928636\n",
              "Porsche 914-2          24.779091\n",
              "Lotus Europa           24.880273\n",
              "Ford Pantera L         60.971818\n",
              "Ferrari Dino           34.508182\n",
              "Maserati Bora          63.155455\n",
              "Volvo 142E             26.262727\n",
              "dtype: float64"
            ],
            "text/html": [
              "<div>\n",
              "<style scoped>\n",
              "    .dataframe tbody tr th:only-of-type {\n",
              "        vertical-align: middle;\n",
              "    }\n",
              "\n",
              "    .dataframe tbody tr th {\n",
              "        vertical-align: top;\n",
              "    }\n",
              "\n",
              "    .dataframe thead th {\n",
              "        text-align: right;\n",
              "    }\n",
              "</style>\n",
              "<table border=\"1\" class=\"dataframe\">\n",
              "  <thead>\n",
              "    <tr style=\"text-align: right;\">\n",
              "      <th></th>\n",
              "      <th>0</th>\n",
              "    </tr>\n",
              "    <tr>\n",
              "      <th>model</th>\n",
              "      <th></th>\n",
              "    </tr>\n",
              "  </thead>\n",
              "  <tbody>\n",
              "    <tr>\n",
              "      <th>Mazda RX4</th>\n",
              "      <td>29.907273</td>\n",
              "    </tr>\n",
              "    <tr>\n",
              "      <th>Mazda RX4 Wag</th>\n",
              "      <td>29.981364</td>\n",
              "    </tr>\n",
              "    <tr>\n",
              "      <th>Datsun 710</th>\n",
              "      <td>23.598182</td>\n",
              "    </tr>\n",
              "    <tr>\n",
              "      <th>Hornet 4 Drive</th>\n",
              "      <td>38.739545</td>\n",
              "    </tr>\n",
              "    <tr>\n",
              "      <th>Hornet Sportabout</th>\n",
              "      <td>53.664545</td>\n",
              "    </tr>\n",
              "    <tr>\n",
              "      <th>Valiant</th>\n",
              "      <td>35.049091</td>\n",
              "    </tr>\n",
              "    <tr>\n",
              "      <th>Duster 360</th>\n",
              "      <td>59.720000</td>\n",
              "    </tr>\n",
              "    <tr>\n",
              "      <th>Merc 240D</th>\n",
              "      <td>24.634545</td>\n",
              "    </tr>\n",
              "    <tr>\n",
              "      <th>Merc 230</th>\n",
              "      <td>27.233636</td>\n",
              "    </tr>\n",
              "    <tr>\n",
              "      <th>Merc 280</th>\n",
              "      <td>31.860000</td>\n",
              "    </tr>\n",
              "    <tr>\n",
              "      <th>Merc 280C</th>\n",
              "      <td>31.787273</td>\n",
              "    </tr>\n",
              "    <tr>\n",
              "      <th>Merc 450SE</th>\n",
              "      <td>46.430909</td>\n",
              "    </tr>\n",
              "    <tr>\n",
              "      <th>Merc 450SL</th>\n",
              "      <td>46.500000</td>\n",
              "    </tr>\n",
              "    <tr>\n",
              "      <th>Merc 450SLC</th>\n",
              "      <td>46.350000</td>\n",
              "    </tr>\n",
              "    <tr>\n",
              "      <th>Cadillac Fleetwood</th>\n",
              "      <td>66.232727</td>\n",
              "    </tr>\n",
              "    <tr>\n",
              "      <th>Lincoln Continental</th>\n",
              "      <td>66.058545</td>\n",
              "    </tr>\n",
              "    <tr>\n",
              "      <th>Chrysler Imperial</th>\n",
              "      <td>65.972273</td>\n",
              "    </tr>\n",
              "    <tr>\n",
              "      <th>Fiat 128</th>\n",
              "      <td>19.440909</td>\n",
              "    </tr>\n",
              "    <tr>\n",
              "      <th>Honda Civic</th>\n",
              "      <td>17.742273</td>\n",
              "    </tr>\n",
              "    <tr>\n",
              "      <th>Toyota Corolla</th>\n",
              "      <td>18.814091</td>\n",
              "    </tr>\n",
              "    <tr>\n",
              "      <th>Toyota Corona</th>\n",
              "      <td>24.888636</td>\n",
              "    </tr>\n",
              "    <tr>\n",
              "      <th>Dodge Challenger</th>\n",
              "      <td>47.240909</td>\n",
              "    </tr>\n",
              "    <tr>\n",
              "      <th>AMC Javelin</th>\n",
              "      <td>46.007727</td>\n",
              "    </tr>\n",
              "    <tr>\n",
              "      <th>Camaro Z28</th>\n",
              "      <td>58.752727</td>\n",
              "    </tr>\n",
              "    <tr>\n",
              "      <th>Pontiac Firebird</th>\n",
              "      <td>57.379545</td>\n",
              "    </tr>\n",
              "    <tr>\n",
              "      <th>Fiat X1-9</th>\n",
              "      <td>18.928636</td>\n",
              "    </tr>\n",
              "    <tr>\n",
              "      <th>Porsche 914-2</th>\n",
              "      <td>24.779091</td>\n",
              "    </tr>\n",
              "    <tr>\n",
              "      <th>Lotus Europa</th>\n",
              "      <td>24.880273</td>\n",
              "    </tr>\n",
              "    <tr>\n",
              "      <th>Ford Pantera L</th>\n",
              "      <td>60.971818</td>\n",
              "    </tr>\n",
              "    <tr>\n",
              "      <th>Ferrari Dino</th>\n",
              "      <td>34.508182</td>\n",
              "    </tr>\n",
              "    <tr>\n",
              "      <th>Maserati Bora</th>\n",
              "      <td>63.155455</td>\n",
              "    </tr>\n",
              "    <tr>\n",
              "      <th>Volvo 142E</th>\n",
              "      <td>26.262727</td>\n",
              "    </tr>\n",
              "  </tbody>\n",
              "</table>\n",
              "</div><br><label><b>dtype:</b> float64</label>"
            ]
          },
          "metadata": {},
          "execution_count": 10
        }
      ]
    },
    {
      "cell_type": "markdown",
      "source": [
        "The **median** of a distribution is the value where 50% of the data lies below it and 50% lies above it. In essence, the median splits the data in half. The median is also known as the **50% percentile** since 50% of the observations are found below it. As we've seen previously, you can get the median using the df.median() function:"
      ],
      "metadata": {
        "id": "SNRkGmxIQS98"
      }
    },
    {
      "cell_type": "code",
      "source": [
        "mtcars.median()"
      ],
      "metadata": {
        "colab": {
          "base_uri": "https://localhost:8080/",
          "height": 429
        },
        "id": "vZGRN70jQN0X",
        "outputId": "a0dc1673-926c-4c7b-9b75-f9882f4f9ce6"
      },
      "execution_count": 11,
      "outputs": [
        {
          "output_type": "execute_result",
          "data": {
            "text/plain": [
              "mpg      19.200\n",
              "cyl       6.000\n",
              "disp    196.300\n",
              "hp      123.000\n",
              "drat      3.695\n",
              "wt        3.325\n",
              "qsec     17.710\n",
              "vs        0.000\n",
              "am        0.000\n",
              "gear      4.000\n",
              "carb      2.000\n",
              "dtype: float64"
            ],
            "text/html": [
              "<div>\n",
              "<style scoped>\n",
              "    .dataframe tbody tr th:only-of-type {\n",
              "        vertical-align: middle;\n",
              "    }\n",
              "\n",
              "    .dataframe tbody tr th {\n",
              "        vertical-align: top;\n",
              "    }\n",
              "\n",
              "    .dataframe thead th {\n",
              "        text-align: right;\n",
              "    }\n",
              "</style>\n",
              "<table border=\"1\" class=\"dataframe\">\n",
              "  <thead>\n",
              "    <tr style=\"text-align: right;\">\n",
              "      <th></th>\n",
              "      <th>0</th>\n",
              "    </tr>\n",
              "  </thead>\n",
              "  <tbody>\n",
              "    <tr>\n",
              "      <th>mpg</th>\n",
              "      <td>19.200</td>\n",
              "    </tr>\n",
              "    <tr>\n",
              "      <th>cyl</th>\n",
              "      <td>6.000</td>\n",
              "    </tr>\n",
              "    <tr>\n",
              "      <th>disp</th>\n",
              "      <td>196.300</td>\n",
              "    </tr>\n",
              "    <tr>\n",
              "      <th>hp</th>\n",
              "      <td>123.000</td>\n",
              "    </tr>\n",
              "    <tr>\n",
              "      <th>drat</th>\n",
              "      <td>3.695</td>\n",
              "    </tr>\n",
              "    <tr>\n",
              "      <th>wt</th>\n",
              "      <td>3.325</td>\n",
              "    </tr>\n",
              "    <tr>\n",
              "      <th>qsec</th>\n",
              "      <td>17.710</td>\n",
              "    </tr>\n",
              "    <tr>\n",
              "      <th>vs</th>\n",
              "      <td>0.000</td>\n",
              "    </tr>\n",
              "    <tr>\n",
              "      <th>am</th>\n",
              "      <td>0.000</td>\n",
              "    </tr>\n",
              "    <tr>\n",
              "      <th>gear</th>\n",
              "      <td>4.000</td>\n",
              "    </tr>\n",
              "    <tr>\n",
              "      <th>carb</th>\n",
              "      <td>2.000</td>\n",
              "    </tr>\n",
              "  </tbody>\n",
              "</table>\n",
              "</div><br><label><b>dtype:</b> float64</label>"
            ]
          },
          "metadata": {},
          "execution_count": 11
        }
      ]
    },
    {
      "cell_type": "markdown",
      "source": [
        "Although the mean and median both give us some sense of the center of a distribution, they aren't always the same. The median always gives us a value that splits the data into two halves while the mean is a numeric average so extreme values can have a significant impact on the mean.\n",
        " **In a symmetric distribution, the mean and median will be the same.** Let's investigate with a density plot:"
      ],
      "metadata": {
        "id": "RnMfu4jpRFq6"
      }
    },
    {
      "cell_type": "code",
      "source": [
        "norm_data = pd.DataFrame(np.random.normal(size=100000))\n",
        "\n",
        "norm_data.plot(kind='density',\n",
        "               figsize = (8,8));\n",
        "\n",
        "plt.vlines(norm_data.mean(),  # plot black line at mean\n",
        "           ymin = 0,\n",
        "           ymax = 0.4,\n",
        "           linewidth = 5.0);\n",
        "\n",
        "plt.vlines(norm_data.median(),  # plot red line at median\n",
        "           ymin = 0,\n",
        "           ymax = 0.4,\n",
        "           linewidth = 2.0,\n",
        "           color = 'red');"
      ],
      "metadata": {
        "colab": {
          "base_uri": "https://localhost:8080/",
          "height": 676
        },
        "id": "EtAriWEXQZYH",
        "outputId": "a002674e-d89b-495b-cdad-80d89a2e65f3"
      },
      "execution_count": 12,
      "outputs": [
        {
          "output_type": "display_data",
          "data": {
            "text/plain": [
              "<Figure size 800x800 with 1 Axes>"
            ],
            "image/png": "[encoded data removed]"
          },
          "metadata": {}
        }
      ]
    },
    {
      "cell_type": "markdown",
      "source": [
        "In the plot above the mean and median are both so close to zero that the red median line lies on top of the thicker black line drawn at the mean.\n",
        "\n",
        "In skewed distributions, the mean tends to get pulled in the direction of the skew, while the median tends to resist the effects of skew:"
      ],
      "metadata": {
        "id": "uSSNrqDhR8iC"
      }
    },
    {
      "cell_type": "code",
      "source": [
        "skewed_data = pd.DataFrame(np.random.exponential(size=100000))\n",
        "\n",
        "skewed_data.plot(kind='density',\n",
        "                 figsize = (8,8),\n",
        "                 xlim= (-1,5));\n",
        "\n",
        "plt.vlines(skewed_data.mean(),  # plot black line at mean\n",
        "           ymin = 0,\n",
        "           ymax = 0.8,\n",
        "           linewidth = 5.0);\n",
        "\n",
        "plt.vlines(skewed_data.median(),  # plot red line at median\n",
        "           ymin = 0,\n",
        "           ymax = 0.8,\n",
        "           linewidth = 2.0,\n",
        "           color = 'red');"
      ],
      "metadata": {
        "colab": {
          "base_uri": "https://localhost:8080/",
          "height": 676
        },
        "id": "E00AXdu8RwaU",
        "outputId": "d5548bd7-06c3-45c5-bc3d-dafd2bebcc90"
      },
      "execution_count": 13,
      "outputs": [
        {
          "output_type": "display_data",
          "data": {
            "text/plain": [
              "<Figure size 800x800 with 1 Axes>"
            ],
            "image/png": "[encoded data removed]"
          },
          "metadata": {}
        }
      ]
    },
    {
      "cell_type": "markdown",
      "source": [
        "The mean is also influenced heavily by outliers, while the median resists the influence of outliers:"
      ],
      "metadata": {
        "id": "75yWdoJSTCIO"
      }
    },
    {
      "cell_type": "code",
      "source": [
        "norm_data = np.random.normal(size = 50)\n",
        "outliers = np.random.normal(15, size = 3)\n",
        "combined_data = pd.DataFrame(np.concatenate((norm_data, outliers),\n",
        "                                            axis = 0))\n",
        "\n",
        "combined_data.plot(kind = \"density\",\n",
        "                   figsize = (8,8),\n",
        "                   xlim = (-5,20));\n",
        "\n",
        "plt.vlines(combined_data.mean(),     # Plot black line at mean\n",
        "           ymin=0,\n",
        "           ymax=0.2,\n",
        "           linewidth=5.0);\n",
        "\n",
        "plt.vlines(combined_data.median(),   # Plot red line at median\n",
        "           ymin=0,\n",
        "           ymax=0.2,\n",
        "           linewidth=2.0,\n",
        "           color=\"red\");"
      ],
      "metadata": {
        "colab": {
          "base_uri": "https://localhost:8080/",
          "height": 676
        },
        "id": "yuFB9KbHSfE2",
        "outputId": "8db67d10-549d-4653-f6af-553477851c88"
      },
      "execution_count": 14,
      "outputs": [
        {
          "output_type": "display_data",
          "data": {
            "text/plain": [
              "<Figure size 800x800 with 1 Axes>"
            ],
            "image/png": "[encoded data removed]"
          },
          "metadata": {}
        }
      ]
    },
    {
      "cell_type": "markdown",
      "source": [
        "Since the median tends to resist the effects of skewness and outliers, it is known a \"**robust**\" statistic.\n",
        "The median generally gives a better sense of the typical value in a distribution with significant skew or outliers.\n",
        "\n",
        "The **mode** of a variable is simply the value that appears most frequently. Unlike mean and median, you can take the mode of a categorical variable and it is possible to have multiple modes. Find the mode with df.mode():"
      ],
      "metadata": {
        "id": "04Dy9NS-ZW6I"
      }
    },
    {
      "cell_type": "code",
      "source": [
        "mtcars.mode()"
      ],
      "metadata": {
        "colab": {
          "base_uri": "https://localhost:8080/",
          "height": 269
        },
        "id": "Nz1yAe5cZIJo",
        "outputId": "dd586b99-0588-4d7c-b536-d327405bfa0e"
      },
      "execution_count": 15,
      "outputs": [
        {
          "output_type": "execute_result",
          "data": {
            "text/plain": [
              "    mpg  cyl   disp     hp  drat    wt   qsec   vs   am  gear  carb\n",
              "0  10.4  8.0  275.8  110.0  3.07  3.44  17.02  0.0  0.0   3.0   2.0\n",
              "1  15.2  NaN    NaN  175.0  3.92   NaN  18.90  NaN  NaN   NaN   4.0\n",
              "2  19.2  NaN    NaN  180.0   NaN   NaN    NaN  NaN  NaN   NaN   NaN\n",
              "3  21.0  NaN    NaN    NaN   NaN   NaN    NaN  NaN  NaN   NaN   NaN\n",
              "4  21.4  NaN    NaN    NaN   NaN   NaN    NaN  NaN  NaN   NaN   NaN\n",
              "5  22.8  NaN    NaN    NaN   NaN   NaN    NaN  NaN  NaN   NaN   NaN\n",
              "6  30.4  NaN    NaN    NaN   NaN   NaN    NaN  NaN  NaN   NaN   NaN"
            ],
            "text/html": [
              "\n",
              "  <div id=\"df-2dc897a7-e25f-4ad9-a5ef-518144258b60\" class=\"colab-df-container\">\n",
              "    <div>\n",
              "<style scoped>\n",
              "    .dataframe tbody tr th:only-of-type {\n",
              "        vertical-align: middle;\n",
              "    }\n",
              "\n",
              "    .dataframe tbody tr th {\n",
              "        vertical-align: top;\n",
              "    }\n",
              "\n",
              "    .dataframe thead th {\n",
              "        text-align: right;\n",
              "    }\n",
              "</style>\n",
              "<table border=\"1\" class=\"dataframe\">\n",
              "  <thead>\n",
              "    <tr style=\"text-align: right;\">\n",
              "      <th></th>\n",
              "      <th>mpg</th>\n",
              "      <th>cyl</th>\n",
              "      <th>disp</th>\n",
              "      <th>hp</th>\n",
              "      <th>drat</th>\n",
              "      <th>wt</th>\n",
              "      <th>qsec</th>\n",
              "      <th>vs</th>\n",
              "      <th>am</th>\n",
              "      <th>gear</th>\n",
              "      <th>carb</th>\n",
              "    </tr>\n",
              "  </thead>\n",
              "  <tbody>\n",
              "    <tr>\n",
              "      <th>0</th>\n",
              "      <td>10.4</td>\n",
              "      <td>8.0</td>\n",
              "      <td>275.8</td>\n",
              "      <td>110.0</td>\n",
              "      <td>3.07</td>\n",
              "      <td>3.44</td>\n",
              "      <td>17.02</td>\n",
              "      <td>0.0</td>\n",
              "      <td>0.0</td>\n",
              "      <td>3.0</td>\n",
              "      <td>2.0</td>\n",
              "    </tr>\n",
              "    <tr>\n",
              "      <th>1</th>\n",
              "      <td>15.2</td>\n",
              "      <td>NaN</td>\n",
              "      <td>NaN</td>\n",
              "      <td>175.0</td>\n",
              "      <td>3.92</td>\n",
              "      <td>NaN</td>\n",
              "      <td>18.90</td>\n",
              "      <td>NaN</td>\n",
              "      <td>NaN</td>\n",
              "      <td>NaN</td>\n",
              "      <td>4.0</td>\n",
              "    </tr>\n",
              "    <tr>\n",
              "      <th>2</th>\n",
              "      <td>19.2</td>\n",
              "      <td>NaN</td>\n",
              "      <td>NaN</td>\n",
              "      <td>180.0</td>\n",
              "      <td>NaN</td>\n",
              "      <td>NaN</td>\n",
              "      <td>NaN</td>\n",
              "      <td>NaN</td>\n",
              "      <td>NaN</td>\n",
              "      <td>NaN</td>\n",
              "      <td>NaN</td>\n",
              "    </tr>\n",
              "    <tr>\n",
              "      <th>3</th>\n",
              "      <td>21.0</td>\n",
              "      <td>NaN</td>\n",
              "      <td>NaN</td>\n",
              "      <td>NaN</td>\n",
              "      <td>NaN</td>\n",
              "      <td>NaN</td>\n",
              "      <td>NaN</td>\n",
              "      <td>NaN</td>\n",
              "      <td>NaN</td>\n",
              "      <td>NaN</td>\n",
              "      <td>NaN</td>\n",
              "    </tr>\n",
              "    <tr>\n",
              "      <th>4</th>\n",
              "      <td>21.4</td>\n",
              "      <td>NaN</td>\n",
              "      <td>NaN</td>\n",
              "      <td>NaN</td>\n",
              "      <td>NaN</td>\n",
              "      <td>NaN</td>\n",
              "      <td>NaN</td>\n",
              "      <td>NaN</td>\n",
              "      <td>NaN</td>\n",
              "      <td>NaN</td>\n",
              "      <td>NaN</td>\n",
              "    </tr>\n",
              "    <tr>\n",
              "      <th>5</th>\n",
              "      <td>22.8</td>\n",
              "      <td>NaN</td>\n",
              "      <td>NaN</td>\n",
              "      <td>NaN</td>\n",
              "      <td>NaN</td>\n",
              "      <td>NaN</td>\n",
              "      <td>NaN</td>\n",
              "      <td>NaN</td>\n",
              "      <td>NaN</td>\n",
              "      <td>NaN</td>\n",
              "      <td>NaN</td>\n",
              "    </tr>\n",
              "    <tr>\n",
              "      <th>6</th>\n",
              "      <td>30.4</td>\n",
              "      <td>NaN</td>\n",
              "      <td>NaN</td>\n",
              "      <td>NaN</td>\n",
              "      <td>NaN</td>\n",
              "      <td>NaN</td>\n",
              "      <td>NaN</td>\n",
              "      <td>NaN</td>\n",
              "      <td>NaN</td>\n",
              "      <td>NaN</td>\n",
              "      <td>NaN</td>\n",
              "    </tr>\n",
              "  </tbody>\n",
              "</table>\n",
              "</div>\n",
              "    <div class=\"colab-df-buttons\">\n",
              "\n",
              "  <div class=\"colab-df-container\">\n",
              "    <button class=\"colab-df-convert\" onclick=\"convertToInteractive('df-2dc897a7-e25f-4ad9-a5ef-518144258b60')\"\n",
              "            title=\"Convert this dataframe to an interactive table.\"\n",
              "            style=\"display:none;\">\n",
              "\n",
              "  <svg xmlns=\"http://www.w3.org/2000/svg\" height=\"24px\" viewBox=\"0 -960 960 960\">\n",
              "    <path d=\"M120-120v-720h720v720H120Zm60-500h600v-160H180v160Zm220 220h160v-160H400v160Zm0 220h160v-160H400v160ZM180-400h160v-160H180v160Zm440 0h160v-160H620v160ZM180-180h160v-160H180v160Zm440 0h160v-160H620v160Z\"/>\n",
              "  </svg>\n",
              "    </button>\n",
              "\n",
              "  <style>\n",
              "    .colab-df-container {\n",
              "      display:flex;\n",
              "      gap: 12px;\n",
              "    }\n",
              "\n",
              "    .colab-df-convert {\n",
              "      background-color: #E8F0FE;\n",
              "      border: none;\n",
              "      border-radius: 50%;\n",
              "      cursor: pointer;\n",
              "      display: none;\n",
              "      fill: #1967D2;\n",
              "      height: 32px;\n",
              "      padding: 0 0 0 0;\n",
              "      width: 32px;\n",
              "    }\n",
              "\n",
              "    .colab-df-convert:hover {\n",
              "      background-color: #E2EBFA;\n",
              "      box-shadow: 0px 1px 2px rgba(60, 64, 67, 0.3), 0px 1px 3px 1px rgba(60, 64, 67, 0.15);\n",
              "      fill: #174EA6;\n",
              "    }\n",
              "\n",
              "    .colab-df-buttons div {\n",
              "      margin-bottom: 4px;\n",
              "    }\n",
              "\n",
              "    [theme=dark] .colab-df-convert {\n",
              "      background-color: #3B4455;\n",
              "      fill: #D2E3FC;\n",
              "    }\n",
              "\n",
              "    [theme=dark] .colab-df-convert:hover {\n",
              "      background-color: #434B5C;\n",
              "      box-shadow: 0px 1px 3px 1px rgba(0, 0, 0, 0.15);\n",
              "      filter: drop-shadow(0px 1px 2px rgba(0, 0, 0, 0.3));\n",
              "      fill: #FFFFFF;\n",
              "    }\n",
              "  </style>\n",
              "\n",
              "    <script>\n",
              "      const buttonEl =\n",
              "        document.querySelector('#df-2dc897a7-e25f-4ad9-a5ef-518144258b60 button.colab-df-convert');\n",
              "      buttonEl.style.display =\n",
              "        google.colab.kernel.accessAllowed ? 'block' : 'none';\n",
              "\n",
              "      async function convertToInteractive(key) {\n",
              "        const element = document.querySelector('#df-2dc897a7-e25f-4ad9-a5ef-518144258b60');\n",
              "        const dataTable =\n",
              "          await google.colab.kernel.invokeFunction('convertToInteractive',\n",
              "                                                    [key], {});\n",
              "        if (!dataTable) return;\n",
              "\n",
              "        const docLinkHtml = 'Like what you see? Visit the ' +\n",
              "          '<a target=\"_blank\" href=https://colab.research.google.com/notebooks/data_table.ipynb>data table notebook</a>'\n",
              "          + ' to learn more about interactive tables.';\n",
              "        element.innerHTML = '';\n",
              "        dataTable['output_type'] = 'display_data';\n",
              "        await google.colab.output.renderOutput(dataTable, element);\n",
              "        const docLink = document.createElement('div');\n",
              "        docLink.innerHTML = docLinkHtml;\n",
              "        element.appendChild(docLink);\n",
              "      }\n",
              "    </script>\n",
              "  </div>\n",
              "\n",
              "\n",
              "<div id=\"df-c54e5b2b-b501-4246-bd59-5496421ecc78\">\n",
              "  <button class=\"colab-df-quickchart\" onclick=\"quickchart('df-c54e5b2b-b501-4246-bd59-5496421ecc78')\"\n",
              "            title=\"Suggest charts\"\n",
              "            style=\"display:none;\">\n",
              "\n",
              "<svg xmlns=\"http://www.w3.org/2000/svg\" height=\"24px\"viewBox=\"0 0 24 24\"\n",
              "     width=\"24px\">\n",
              "    <g>\n",
              "        <path d=\"M19 3H5c-1.1 0-2 .9-2 2v14c0 1.1.9 2 2 2h14c1.1 0 2-.9 2-2V5c0-1.1-.9-2-2-2zM9 17H7v-7h2v7zm4 0h-2V7h2v10zm4 0h-2v-4h2v4z\"/>\n",
              "    </g>\n",
              "</svg>\n",
              "  </button>\n",
              "\n",
              "<style>\n",
              "  .colab-df-quickchart {\n",
              "      --bg-color: #E8F0FE;\n",
              "      --fill-color: #1967D2;\n",
              "      --hover-bg-color: #E2EBFA;\n",
              "      --hover-fill-color: #174EA6;\n",
              "      --disabled-fill-color: #AAA;\n",
              "      --disabled-bg-color: #DDD;\n",
              "  }\n",
              "\n",
              "  [theme=dark] .colab-df-quickchart {\n",
              "      --bg-color: #3B4455;\n",
              "      --fill-color: #D2E3FC;\n",
              "      --hover-bg-color: #434B5C;\n",
              "      --hover-fill-color: #FFFFFF;\n",
              "      --disabled-bg-color: #3B4455;\n",
              "      --disabled-fill-color: #666;\n",
              "  }\n",
              "\n",
              "  .colab-df-quickchart {\n",
              "    background-color: var(--bg-color);\n",
              "    border: none;\n",
              "    border-radius: 50%;\n",
              "    cursor: pointer;\n",
              "    display: none;\n",
              "    fill: var(--fill-color);\n",
              "    height: 32px;\n",
              "    padding: 0;\n",
              "    width: 32px;\n",
              "  }\n",
              "\n",
              "  .colab-df-quickchart:hover {\n",
              "    background-color: var(--hover-bg-color);\n",
              "    box-shadow: 0 1px 2px rgba(60, 64, 67, 0.3), 0 1px 3px 1px rgba(60, 64, 67, 0.15);\n",
              "    fill: var(--button-hover-fill-color);\n",
              "  }\n",
              "\n",
              "  .colab-df-quickchart-complete:disabled,\n",
              "  .colab-df-quickchart-complete:disabled:hover {\n",
              "    background-color: var(--disabled-bg-color);\n",
              "    fill: var(--disabled-fill-color);\n",
              "    box-shadow: none;\n",
              "  }\n",
              "\n",
              "  .colab-df-spinner {\n",
              "    border: 2px solid var(--fill-color);\n",
              "    border-color: transparent;\n",
              "    border-bottom-color: var(--fill-color);\n",
              "    animation:\n",
              "      spin 1s steps(1) infinite;\n",
              "  }\n",
              "\n",
              "  @keyframes spin {\n",
              "    0% {\n",
              "      border-color: transparent;\n",
              "      border-bottom-color: var(--fill-color);\n",
              "      border-left-color: var(--fill-color);\n",
              "    }\n",
              "    20% {\n",
              "      border-color: transparent;\n",
              "      border-left-color: var(--fill-color);\n",
              "      border-top-color: var(--fill-color);\n",
              "    }\n",
              "    30% {\n",
              "      border-color: transparent;\n",
              "      border-left-color: var(--fill-color);\n",
              "      border-top-color: var(--fill-color);\n",
              "      border-right-color: var(--fill-color);\n",
              "    }\n",
              "    40% {\n",
              "      border-color: transparent;\n",
              "      border-right-color: var(--fill-color);\n",
              "      border-top-color: var(--fill-color);\n",
              "    }\n",
              "    60% {\n",
              "      border-color: transparent;\n",
              "      border-right-color: var(--fill-color);\n",
              "    }\n",
              "    80% {\n",
              "      border-color: transparent;\n",
              "      border-right-color: var(--fill-color);\n",
              "      border-bottom-color: var(--fill-color);\n",
              "    }\n",
              "    90% {\n",
              "      border-color: transparent;\n",
              "      border-bottom-color: var(--fill-color);\n",
              "    }\n",
              "  }\n",
              "</style>\n",
              "\n",
              "  <script>\n",
              "    async function quickchart(key) {\n",
              "      const quickchartButtonEl =\n",
              "        document.querySelector('#' + key + ' button');\n",
              "      quickchartButtonEl.disabled = true;  // To prevent multiple clicks.\n",
              "      quickchartButtonEl.classList.add('colab-df-spinner');\n",
              "      try {\n",
              "        const charts = await google.colab.kernel.invokeFunction(\n",
              "            'suggestCharts', [key], {});\n",
              "      } catch (error) {\n",
              "        console.error('Error during call to suggestCharts:', error);\n",
              "      }\n",
              "      quickchartButtonEl.classList.remove('colab-df-spinner');\n",
              "      quickchartButtonEl.classList.add('colab-df-quickchart-complete');\n",
              "    }\n",
              "    (() => {\n",
              "      let quickchartButtonEl =\n",
              "        document.querySelector('#df-c54e5b2b-b501-4246-bd59-5496421ecc78 button');\n",
              "      quickchartButtonEl.style.display =\n",
              "        google.colab.kernel.accessAllowed ? 'block' : 'none';\n",
              "    })();\n",
              "  </script>\n",
              "</div>\n",
              "\n",
              "    </div>\n",
              "  </div>\n"
            ],
            "application/vnd.google.colaboratory.intrinsic+json": {
              "type": "dataframe",
              "summary": "{\n  \"name\": \"mtcars\",\n  \"rows\": 7,\n  \"fields\": [\n    {\n      \"column\": \"mpg\",\n      \"properties\": {\n        \"dtype\": \"number\",\n        \"std\": 6.25535960673116,\n        \"min\": 10.4,\n        \"max\": 30.4,\n        \"num_unique_values\": 7,\n        \"samples\": [\n          10.4,\n          15.2,\n          22.8\n        ],\n        \"semantic_type\": \"\",\n        \"description\": \"\"\n      }\n    },\n    {\n      \"column\": \"cyl\",\n      \"properties\": {\n        \"dtype\": \"number\",\n        \"std\": null,\n        \"min\": 8.0,\n        \"max\": 8.0,\n        \"num_unique_values\": 1,\n        \"samples\": [\n          8.0\n        ],\n        \"semantic_type\": \"\",\n        \"description\": \"\"\n      }\n    },\n    {\n      \"column\": \"disp\",\n      \"properties\": {\n        \"dtype\": \"number\",\n        \"std\": null,\n        \"min\": 275.8,\n        \"max\": 275.8,\n        \"num_unique_values\": 1,\n        \"samples\": [\n          275.8\n        ],\n        \"semantic_type\": \"\",\n        \"description\": \"\"\n      }\n    },\n    {\n      \"column\": \"hp\",\n      \"properties\": {\n        \"dtype\": \"number\",\n        \"std\": 39.05124837953327,\n        \"min\": 110.0,\n        \"max\": 180.0,\n        \"num_unique_values\": 3,\n        \"samples\": [\n          110.0\n        ],\n        \"semantic_type\": \"\",\n        \"description\": \"\"\n      }\n    },\n    {\n      \"column\": \"drat\",\n      \"properties\": {\n        \"dtype\": \"number\",\n        \"std\": 0.6010407640085654,\n        \"min\": 3.07,\n        \"max\": 3.92,\n        \"num_unique_values\": 2,\n        \"samples\": [\n          3.92\n        ],\n        \"semantic_type\": \"\",\n        \"description\": \"\"\n      }\n    },\n    {\n      \"column\": \"wt\",\n      \"properties\": {\n        \"dtype\": \"number\",\n        \"std\": null,\n        \"min\": 3.44,\n        \"max\": 3.44,\n        \"num_unique_values\": 1,\n        \"samples\": [\n          3.44\n        ],\n        \"semantic_type\": \"\",\n        \"description\": \"\"\n      }\n    },\n    {\n      \"column\": \"qsec\",\n      \"properties\": {\n        \"dtype\": \"number\",\n        \"std\": 1.3293607486307086,\n        \"min\": 17.02,\n        \"max\": 18.9,\n        \"num_unique_values\": 2,\n        \"samples\": [\n          18.9\n        ],\n        \"semantic_type\": \"\",\n        \"description\": \"\"\n      }\n    },\n    {\n      \"column\": \"vs\",\n      \"properties\": {\n        \"dtype\": \"number\",\n        \"std\": null,\n        \"min\": 0.0,\n        \"max\": 0.0,\n        \"num_unique_values\": 1,\n        \"samples\": [\n          0.0\n        ],\n        \"semantic_type\": \"\",\n        \"description\": \"\"\n      }\n    },\n    {\n      \"column\": \"am\",\n      \"properties\": {\n        \"dtype\": \"number\",\n        \"std\": null,\n        \"min\": 0.0,\n        \"max\": 0.0,\n        \"num_unique_values\": 1,\n        \"samples\": [\n          0.0\n        ],\n        \"semantic_type\": \"\",\n        \"description\": \"\"\n      }\n    },\n    {\n      \"column\": \"gear\",\n      \"properties\": {\n        \"dtype\": \"number\",\n        \"std\": null,\n        \"min\": 3.0,\n        \"max\": 3.0,\n        \"num_unique_values\": 1,\n        \"samples\": [\n          3.0\n        ],\n        \"semantic_type\": \"\",\n        \"description\": \"\"\n      }\n    },\n    {\n      \"column\": \"carb\",\n      \"properties\": {\n        \"dtype\": \"number\",\n        \"std\": 1.4142135623730951,\n        \"min\": 2.0,\n        \"max\": 4.0,\n        \"num_unique_values\": 2,\n        \"samples\": [\n          4.0\n        ],\n        \"semantic_type\": \"\",\n        \"description\": \"\"\n      }\n    }\n  ]\n}"
            }
          },
          "metadata": {},
          "execution_count": 15
        }
      ]
    },
    {
      "cell_type": "markdown",
      "source": [
        "You are seeing multiple rows here, this is because few rows have multiple modes i.e. values with same number of counts. If a column has only one mode,other values are returned as NaN."
      ],
      "metadata": {
        "id": "Mhgimvp-aTG_"
      }
    },
    {
      "cell_type": "markdown",
      "source": [
        "## Measure of Spread\n",
        "\n",
        "Measures of spread (dispersion) are statistics that describe how data varies. While measures of center give us an idea of the typical value, measures of spread give us a sense of how much the data tends to diverge from the typical value.\n",
        "\n",
        "One of the simplest measures of spread is the range.\n",
        "**Range** is the distance between the maximum and minimum observations:"
      ],
      "metadata": {
        "id": "AqUk2p90awpt"
      }
    },
    {
      "cell_type": "code",
      "source": [
        "max(mtcars[\"mpg\"]) - min(mtcars[\"mpg\"])"
      ],
      "metadata": {
        "colab": {
          "base_uri": "https://localhost:8080/"
        },
        "id": "Mo7rnLU0ZdiZ",
        "outputId": "91965edc-2990-447d-8c1a-c25946232504"
      },
      "execution_count": 16,
      "outputs": [
        {
          "output_type": "execute_result",
          "data": {
            "text/plain": [
              "23.5"
            ]
          },
          "metadata": {},
          "execution_count": 16
        }
      ]
    },
    {
      "cell_type": "markdown",
      "source": [
        "As noted earlier, the median represents the 50th percentile of a data set. A summary of several percentiles can be used to describe a variable's spread. We can extract:\n",
        "- **the minimum value (0th percentile)**\n",
        "- **first quartile (25th percentile)**\n",
        "- **median**\n",
        "- **third quartile(75th percentile**)\n",
        "- **maximum value (100th percentile)** using the quantile() function:"
      ],
      "metadata": {
        "id": "dCHHLK7ubFg3"
      }
    },
    {
      "cell_type": "code",
      "source": [
        "five_num = [mtcars[\"mpg\"].quantile(0),\n",
        "            mtcars[\"mpg\"].quantile(0.25),\n",
        "            mtcars[\"mpg\"].quantile(0.5),\n",
        "            mtcars[\"mpg\"].quantile(0.75),\n",
        "            mtcars[\"mpg\"].quantile(1)]\n",
        "\n",
        "five_num"
      ],
      "metadata": {
        "colab": {
          "base_uri": "https://localhost:8080/"
        },
        "id": "3z_-IXU_bB3_",
        "outputId": "70c0379d-2b74-4613-9fe9-8f1aa5a266fe"
      },
      "execution_count": 17,
      "outputs": [
        {
          "output_type": "execute_result",
          "data": {
            "text/plain": [
              "[10.4, 15.425, 19.2, 22.8, 33.9]"
            ]
          },
          "metadata": {},
          "execution_count": 17
        }
      ]
    },
    {
      "cell_type": "markdown",
      "source": [
        "Since these values are so commonly used to describe data, they are known as the \"**five number summary**\". They are the same percentile values returned by df.describe():"
      ],
      "metadata": {
        "id": "ZL3VQ7ZrcL7G"
      }
    },
    {
      "cell_type": "code",
      "source": [
        "mtcars[\"mpg\"].describe()"
      ],
      "metadata": {
        "colab": {
          "base_uri": "https://localhost:8080/",
          "height": 335
        },
        "id": "y2UbkO8icBac",
        "outputId": "b022bd2c-fc67-4407-fe42-c17aed67650b"
      },
      "execution_count": 18,
      "outputs": [
        {
          "output_type": "execute_result",
          "data": {
            "text/plain": [
              "count    32.000000\n",
              "mean     20.090625\n",
              "std       6.026948\n",
              "min      10.400000\n",
              "25%      15.425000\n",
              "50%      19.200000\n",
              "75%      22.800000\n",
              "max      33.900000\n",
              "Name: mpg, dtype: float64"
            ],
            "text/html": [
              "<div>\n",
              "<style scoped>\n",
              "    .dataframe tbody tr th:only-of-type {\n",
              "        vertical-align: middle;\n",
              "    }\n",
              "\n",
              "    .dataframe tbody tr th {\n",
              "        vertical-align: top;\n",
              "    }\n",
              "\n",
              "    .dataframe thead th {\n",
              "        text-align: right;\n",
              "    }\n",
              "</style>\n",
              "<table border=\"1\" class=\"dataframe\">\n",
              "  <thead>\n",
              "    <tr style=\"text-align: right;\">\n",
              "      <th></th>\n",
              "      <th>mpg</th>\n",
              "    </tr>\n",
              "  </thead>\n",
              "  <tbody>\n",
              "    <tr>\n",
              "      <th>count</th>\n",
              "      <td>32.000000</td>\n",
              "    </tr>\n",
              "    <tr>\n",
              "      <th>mean</th>\n",
              "      <td>20.090625</td>\n",
              "    </tr>\n",
              "    <tr>\n",
              "      <th>std</th>\n",
              "      <td>6.026948</td>\n",
              "    </tr>\n",
              "    <tr>\n",
              "      <th>min</th>\n",
              "      <td>10.400000</td>\n",
              "    </tr>\n",
              "    <tr>\n",
              "      <th>25%</th>\n",
              "      <td>15.425000</td>\n",
              "    </tr>\n",
              "    <tr>\n",
              "      <th>50%</th>\n",
              "      <td>19.200000</td>\n",
              "    </tr>\n",
              "    <tr>\n",
              "      <th>75%</th>\n",
              "      <td>22.800000</td>\n",
              "    </tr>\n",
              "    <tr>\n",
              "      <th>max</th>\n",
              "      <td>33.900000</td>\n",
              "    </tr>\n",
              "  </tbody>\n",
              "</table>\n",
              "</div><br><label><b>dtype:</b> float64</label>"
            ]
          },
          "metadata": {},
          "execution_count": 18
        }
      ]
    },
    {
      "cell_type": "markdown",
      "source": [
        "Interquartile (IQR) range is another common measure of spread. IQR is the distance between the 3rd quartile and the 1st quartile:"
      ],
      "metadata": {
        "id": "bAaGFd2ucbGG"
      }
    },
    {
      "cell_type": "code",
      "source": [
        "mtcars[\"mpg\"].quantile(0.75) - mtcars[\"mpg\"].quantile(0.25)"
      ],
      "metadata": {
        "colab": {
          "base_uri": "https://localhost:8080/"
        },
        "id": "6A4TYgqdcPLW",
        "outputId": "b196007e-ad14-4713-808d-b85167c53cdf"
      },
      "execution_count": 19,
      "outputs": [
        {
          "output_type": "execute_result",
          "data": {
            "text/plain": [
              "7.375"
            ]
          },
          "metadata": {},
          "execution_count": 19
        }
      ]
    },
    {
      "cell_type": "markdown",
      "source": [
        "The boxplots we learned to create in the lesson on plotting are just visual representations of the five number summary and IQR:"
      ],
      "metadata": {
        "id": "qk8kJFCocjGI"
      }
    },
    {
      "cell_type": "code",
      "source": [
        "mtcars.boxplot(column = \"mpg\",\n",
        "               return_type = \"axes\",\n",
        "               figsize = (8,8));\n",
        "\n",
        "plt.text(x=0.74, y=22.25, s=\"3rd Quartile\")\n",
        "plt.text(x=0.8, y=18.75, s=\"Median\")\n",
        "plt.text(x=0.75, y=15.5, s=\"1st Quartile\")\n",
        "plt.text(x=0.9, y=10, s=\"Min\")\n",
        "plt.text(x=0.9, y=33.5, s=\"Max\")\n",
        "plt.text(x=0.7, y=19.5, s=\"IQR\", rotation=90, size=25);"
      ],
      "metadata": {
        "colab": {
          "base_uri": "https://localhost:8080/",
          "height": 680
        },
        "id": "VoMy1UOScgT6",
        "outputId": "c41a1cc2-018a-48e1-c3f4-e7c03b209acd"
      },
      "execution_count": 20,
      "outputs": [
        {
          "output_type": "display_data",
          "data": {
            "text/plain": [
              "<Figure size 800x800 with 1 Axes>"
            ],
            "image/png": "[encoded data removed]"
          },
          "metadata": {}
        }
      ]
    },
    {
      "cell_type": "markdown",
      "source": [
        "Variance and standard deviation are two other common measures of spread. The **variance** of a distribution is the average of the squared deviations (differences) from the mean. Use df.var() to check variance:"
      ],
      "metadata": {
        "id": "rWUzc-cec6ZW"
      }
    },
    {
      "cell_type": "code",
      "source": [
        "mtcars[\"mpg\"].var()"
      ],
      "metadata": {
        "colab": {
          "base_uri": "https://localhost:8080/"
        },
        "id": "Wo_BL-FWcxOX",
        "outputId": "b9ed2c76-ca45-49c0-dacc-5c75e64325e1"
      },
      "execution_count": 21,
      "outputs": [
        {
          "output_type": "execute_result",
          "data": {
            "text/plain": [
              "36.32410282258064"
            ]
          },
          "metadata": {},
          "execution_count": 21
        }
      ]
    },
    {
      "cell_type": "markdown",
      "source": [
        "The **standard deviation** is the square root of the variance. Standard deviation can be more interpretable than variance, since the standard deviation is expressed in terms of the same units as the variable in question while variance is expressed in terms of units squared. Use df.std() to check the standard deviation:"
      ],
      "metadata": {
        "id": "sYgZ_GRfdFBC"
      }
    },
    {
      "cell_type": "code",
      "source": [
        "mtcars[\"mpg\"].std()"
      ],
      "metadata": {
        "colab": {
          "base_uri": "https://localhost:8080/"
        },
        "id": "x7rxX0y4dBc2",
        "outputId": "3cd5d764-53aa-4df0-a059-5aa5bfd06f16"
      },
      "execution_count": 22,
      "outputs": [
        {
          "output_type": "execute_result",
          "data": {
            "text/plain": [
              "6.026948052089104"
            ]
          },
          "metadata": {},
          "execution_count": 22
        }
      ]
    },
    {
      "cell_type": "markdown",
      "source": [
        "**NOTE:**\n",
        "\n",
        "- Since variance and standard deviation are derived from the mean, they are susceptible to data skew and outliers.\n",
        "- **Median absolute deviation** is an alternative measure of spread based on the median, which inherits the median's robustness against the influence of skew and outliers. It is the median of the absolute value of the deviations from the median:"
      ],
      "metadata": {
        "id": "ePXtATvcdQ6Y"
      }
    },
    {
      "cell_type": "code",
      "source": [
        "abs_median_deviations = abs(mtcars[\"mpg\"] - mtcars[\"mpg\"].median())\n",
        "abs_median_deviations.median()*1.4826\n",
        "\n",
        "# The MAD is often multiplied by a scaling factor of 1.4826.\n"
      ],
      "metadata": {
        "colab": {
          "base_uri": "https://localhost:8080/"
        },
        "id": "6RsD4KPjdMmX",
        "outputId": "1c71854e-dd43-4040-dd71-a79c65841e4a"
      },
      "execution_count": 23,
      "outputs": [
        {
          "output_type": "execute_result",
          "data": {
            "text/plain": [
              "5.411490000000001"
            ]
          },
          "metadata": {},
          "execution_count": 23
        }
      ]
    },
    {
      "cell_type": "markdown",
      "source": [
        "## Skewness and Kurtosis\n",
        "\n",
        "Beyond measures of center and spread, descriptive statistics include measures that give you a sense of the shape of a distribution. Skewness measures the skew or asymmetry of a distribution while kurtosis measures how much data is in the tails of a distribution v.s. the center. We won't go into the exact calculations behind skewness and kurtosis, but they are essentially just statistics that take the idea of variance a step further: while variance involves squaring deviations from the mean, skewness involves cubing deviations from the mean and kurtosis involves raising deviations from the mean to the 4th power.\n",
        "\n",
        "Pandas has built in functions for checking skewness and kurtosis, df.skew() and df.kurt() respectively:\n",
        "\n"
      ],
      "metadata": {
        "id": "AfHG_lcreOnZ"
      }
    },
    {
      "cell_type": "code",
      "source": [
        "mtcars[\"mpg\"].skew()"
      ],
      "metadata": {
        "id": "Zc_o4NJ_d45s",
        "colab": {
          "base_uri": "https://localhost:8080/"
        },
        "outputId": "6e1e9218-cd67-4c81-f8a2-b8bc67a182ac"
      },
      "execution_count": 24,
      "outputs": [
        {
          "output_type": "execute_result",
          "data": {
            "text/plain": [
              "0.6723771376290805"
            ]
          },
          "metadata": {},
          "execution_count": 24
        }
      ]
    },
    {
      "cell_type": "code",
      "source": [
        "mtcars[\"mpg\"].kurt()"
      ],
      "metadata": {
        "colab": {
          "base_uri": "https://localhost:8080/"
        },
        "id": "yCA2mMg-7TEY",
        "outputId": "1faf6c6c-02ee-4030-df48-abd38e18e727"
      },
      "execution_count": 25,
      "outputs": [
        {
          "output_type": "execute_result",
          "data": {
            "text/plain": [
              "-0.0220062914240855"
            ]
          },
          "metadata": {},
          "execution_count": 25
        }
      ]
    },
    {
      "cell_type": "markdown",
      "source": [
        "To explore these two measures further, let's create some dummy data and inspect it:\n",
        "\n"
      ],
      "metadata": {
        "id": "ATNG5hbe7YtE"
      }
    },
    {
      "cell_type": "code",
      "source": [
        "norm_data = np.random.normal(size = 100000)\n",
        "skewed_data = np.concatenate((np.random.normal(size = 35000) + 2,\n",
        "                              np.random.exponential(size = 65000)),\n",
        "                             axis = 0)\n",
        "uniform_data = np.random.uniform(0, 2, size = 100000)\n",
        "peaked_data = np.concatenate((np.random.exponential(size = 50000),\n",
        "                              np.random.exponential(size = 50000) * (-1)),\n",
        "                             axis = 0)\n",
        "\n",
        "data_df = pd.DataFrame({\"norm\" : norm_data,\n",
        "                        \"skewed\" : skewed_data,\n",
        "                        \"uniform\" : uniform_data,\n",
        "                        \"peaked\" : peaked_data})\n"
      ],
      "metadata": {
        "id": "UjJUQ0Z-7WLg"
      },
      "execution_count": 26,
      "outputs": []
    },
    {
      "cell_type": "code",
      "source": [
        "data_df.plot(kind = \"density\",\n",
        "             figsize = (8,8),\n",
        "             xlim = (-5,5));"
      ],
      "metadata": {
        "colab": {
          "base_uri": "https://localhost:8080/",
          "height": 676
        },
        "id": "Z43DwOXj8Fsr",
        "outputId": "513dbea1-e43d-4b79-d997-8739c5e559a1"
      },
      "execution_count": 27,
      "outputs": [
        {
          "output_type": "display_data",
          "data": {
            "text/plain": [
              "<Figure size 800x800 with 1 Axes>"
            ],
            "image/png": "[encoded data removed]"
          },
          "metadata": {}
        }
      ]
    },
    {
      "cell_type": "markdown",
      "source": [
        "Now let's check the skewness of each of the distributions. Since skewness measures asymmetry, we'd expect to see low skewness for all of the distributions except the skewed one, because all the others are roughly symmetric:"
      ],
      "metadata": {
        "id": "xXusBTNV8b-a"
      }
    },
    {
      "cell_type": "code",
      "source": [
        "data_df.skew()"
      ],
      "metadata": {
        "colab": {
          "base_uri": "https://localhost:8080/",
          "height": 210
        },
        "id": "dW8izbwb8Rq1",
        "outputId": "74fbbe47-6d83-494b-eb2f-26643a0e9caf"
      },
      "execution_count": 28,
      "outputs": [
        {
          "output_type": "execute_result",
          "data": {
            "text/plain": [
              "norm      -0.003968\n",
              "skewed     0.990479\n",
              "uniform    0.002647\n",
              "peaked     0.001748\n",
              "dtype: float64"
            ],
            "text/html": [
              "<div>\n",
              "<style scoped>\n",
              "    .dataframe tbody tr th:only-of-type {\n",
              "        vertical-align: middle;\n",
              "    }\n",
              "\n",
              "    .dataframe tbody tr th {\n",
              "        vertical-align: top;\n",
              "    }\n",
              "\n",
              "    .dataframe thead th {\n",
              "        text-align: right;\n",
              "    }\n",
              "</style>\n",
              "<table border=\"1\" class=\"dataframe\">\n",
              "  <thead>\n",
              "    <tr style=\"text-align: right;\">\n",
              "      <th></th>\n",
              "      <th>0</th>\n",
              "    </tr>\n",
              "  </thead>\n",
              "  <tbody>\n",
              "    <tr>\n",
              "      <th>norm</th>\n",
              "      <td>-0.003968</td>\n",
              "    </tr>\n",
              "    <tr>\n",
              "      <th>skewed</th>\n",
              "      <td>0.990479</td>\n",
              "    </tr>\n",
              "    <tr>\n",
              "      <th>uniform</th>\n",
              "      <td>0.002647</td>\n",
              "    </tr>\n",
              "    <tr>\n",
              "      <th>peaked</th>\n",
              "      <td>0.001748</td>\n",
              "    </tr>\n",
              "  </tbody>\n",
              "</table>\n",
              "</div><br><label><b>dtype:</b> float64</label>"
            ]
          },
          "metadata": {},
          "execution_count": 28
        }
      ]
    },
    {
      "cell_type": "markdown",
      "source": [
        "Now let's check kurtosis."
      ],
      "metadata": {
        "id": "EbtlVcuF8nrV"
      }
    },
    {
      "cell_type": "code",
      "source": [
        "data_df.kurt()"
      ],
      "metadata": {
        "colab": {
          "base_uri": "https://localhost:8080/",
          "height": 210
        },
        "id": "RiS-LuFI8fgm",
        "outputId": "c171b578-3cbb-42f9-ef53-f4c2f4cb21fc"
      },
      "execution_count": 29,
      "outputs": [
        {
          "output_type": "execute_result",
          "data": {
            "text/plain": [
              "norm      -0.022814\n",
              "skewed     1.230531\n",
              "uniform   -1.200076\n",
              "peaked     3.022278\n",
              "dtype: float64"
            ],
            "text/html": [
              "<div>\n",
              "<style scoped>\n",
              "    .dataframe tbody tr th:only-of-type {\n",
              "        vertical-align: middle;\n",
              "    }\n",
              "\n",
              "    .dataframe tbody tr th {\n",
              "        vertical-align: top;\n",
              "    }\n",
              "\n",
              "    .dataframe thead th {\n",
              "        text-align: right;\n",
              "    }\n",
              "</style>\n",
              "<table border=\"1\" class=\"dataframe\">\n",
              "  <thead>\n",
              "    <tr style=\"text-align: right;\">\n",
              "      <th></th>\n",
              "      <th>0</th>\n",
              "    </tr>\n",
              "  </thead>\n",
              "  <tbody>\n",
              "    <tr>\n",
              "      <th>norm</th>\n",
              "      <td>-0.022814</td>\n",
              "    </tr>\n",
              "    <tr>\n",
              "      <th>skewed</th>\n",
              "      <td>1.230531</td>\n",
              "    </tr>\n",
              "    <tr>\n",
              "      <th>uniform</th>\n",
              "      <td>-1.200076</td>\n",
              "    </tr>\n",
              "    <tr>\n",
              "      <th>peaked</th>\n",
              "      <td>3.022278</td>\n",
              "    </tr>\n",
              "  </tbody>\n",
              "</table>\n",
              "</div><br><label><b>dtype:</b> float64</label>"
            ]
          },
          "metadata": {},
          "execution_count": 29
        }
      ]
    },
    {
      "cell_type": "markdown",
      "source": [
        "As we can see from the output, the normally distributed data has a kurtosis near zero, the flat distribution has negative kurtosis and the two distributions with more data in the tails vs the center have higher kurtosis.\n",
        "\n",
        "\n",
        "**Descriptive statistics** help you explore features of your data, like **center, spread and shape** by summarizing them with numerical measurements.\n",
        "\n",
        "Descriptive statistics help inform the direction of an analysis and let you communicate your insights to others quickly and succinctly. In addition, certain values, like the mean and variance, are used in all sorts of statistical tests and predictive models.\n",
        "\n",
        "# Probability Distributions\n",
        "\n",
        "link to lesson : https://www.kaggle.com/code/hamelg/python-for-data-22-probability-distributions\n",
        "\n",
        "**Probability** measures how likely it is for an event to occur on a scale from 0 (the event never occurs) to 1 (the event always occurs). When working with data, variables in the columns of the data set can be thought of as random variables: variables that vary due to chance. A **probability distribution** describes how a random variable is distributed; it tells us which values a random variable is most likely to take on and which values are less likely.\n",
        "\n",
        "In statistics, there are a range of precisely defined probability distributions that have different shapes and can be used to model different types of random events. In this lesson we'll discuss some common probability distributions and how to work with them in Python.\n",
        "\n",
        "## Uniform Distribution\n",
        "\n",
        "The uniform distribution is a probability distribution where each value within a certain range is equally likely to occur and values outside of the range never occur. If we make a density plot of a uniform distribution, it appears flat because no value is any more likely (and hence has any more density) than another.\n",
        "\n",
        "Many useful functions for working with probability distributions in Python are contained in the scipy.stats library. Let's load in some libraries, generate some uniform data and plot a density curve:"
      ],
      "metadata": {
        "id": "04N1PmFK8xZj"
      }
    },
    {
      "cell_type": "code",
      "source": [
        "import scipy.stats as stats"
      ],
      "metadata": {
        "id": "5n4gc7WC8pcU"
      },
      "execution_count": 30,
      "outputs": []
    },
    {
      "cell_type": "code",
      "source": [
        "uniform_data = stats.uniform.rvs(size = 100000, # generate 100000 numbers\n",
        "                                 loc = 0,       # from zero\n",
        "                                 scale = 10)    # to 10"
      ],
      "metadata": {
        "id": "UgCODgCOGHGU"
      },
      "execution_count": 31,
      "outputs": []
    },
    {
      "cell_type": "code",
      "source": [
        "pd.DataFrame(uniform_data).plot(kind = \"density\", # plot the distribution\n",
        "                                figsize = (8,8),\n",
        "                                xlim = (-1,11));"
      ],
      "metadata": {
        "colab": {
          "base_uri": "https://localhost:8080/",
          "height": 676
        },
        "id": "owemhps0GaKB",
        "outputId": "3f084523-54a8-44ba-88ea-bed9c6cc4e3d"
      },
      "execution_count": 32,
      "outputs": [
        {
          "output_type": "display_data",
          "data": {
            "text/plain": [
              "<Figure size 800x800 with 1 Axes>"
            ],
            "image/png": "[encoded data removed]"
          },
          "metadata": {}
        }
      ]
    },
    {
      "cell_type": "markdown",
      "source": [
        "**Note: the plot above is an approximation of the underlying distribution, since it is based on a sample of observations.**\n",
        "\n",
        "In the code above, we generated 100,000 data points from a uniform distribution spanning the range 0 to 10. In the density plot, we see that the density of our uniform data is essentially level meaning any given value has the same probability of occurring. The area under a probability density curve is always equal to 1.\n",
        "\n",
        "Probability distributions in scipy come with several useful functions for generating random data and extracting values of interest:\n",
        "\n",
        "- **stats.distribution.rvs()** generates random numbers from the specified distribution. The arguments to rvs() will vary depending on the type of distribution you're working with; in the case of the uniform distribution, we have to specify the starting and ending points and the size (number of random points to generate.).\n",
        "\n",
        "- **stats.distribution.cdf()** is used to determine the probability that an observation drawn from a distribution falls below a specified value (known as the **cumulative distribution function**). In essence, cdf() gives you the area under the distribution's density curve to the left of a certain value on the x axis. For example, in the uniform distribution above, there is a 25% chance that an observation will be in the range 0 to 2.5 and a 75% chance it will fall in the range 2.5 to 10. We can confirm this with cdf():"
      ],
      "metadata": {
        "id": "qTgsOgHUGoxf"
      }
    },
    {
      "cell_type": "code",
      "source": [
        "stats.uniform.cdf(x = 2.5,  # cutoff value\n",
        "                  loc = 0,  # distribution start\n",
        "                  scale = 10) # distribution end"
      ],
      "metadata": {
        "colab": {
          "base_uri": "https://localhost:8080/"
        },
        "id": "LcxpQaRqGiaz",
        "outputId": "b6d12897-e298-44b9-cc27-d0ee2bb39574"
      },
      "execution_count": 33,
      "outputs": [
        {
          "output_type": "execute_result",
          "data": {
            "text/plain": [
              "0.25"
            ]
          },
          "metadata": {},
          "execution_count": 33
        }
      ]
    },
    {
      "cell_type": "markdown",
      "source": [
        "- **stats.distribution.ppf()** is the inverse of cdf(): it returns the x axis cutoff value (quantile) associated with a given probability. For instance, if we want to know the cutoff value for which we have a 40% chance of drawing an observation below that value, we can use ppf():"
      ],
      "metadata": {
        "id": "aPuLDV1uHhcX"
      }
    },
    {
      "cell_type": "code",
      "source": [
        "stats.uniform.ppf(q = 0.4,\n",
        "                  loc = 0,\n",
        "                  scale = 10)"
      ],
      "metadata": {
        "colab": {
          "base_uri": "https://localhost:8080/"
        },
        "id": "cKal9l8nHetQ",
        "outputId": "6a316160-28ee-4c03-d2cb-e4c39a81eb1c"
      },
      "execution_count": 34,
      "outputs": [
        {
          "output_type": "execute_result",
          "data": {
            "text/plain": [
              "4.0"
            ]
          },
          "metadata": {},
          "execution_count": 34
        }
      ]
    },
    {
      "cell_type": "markdown",
      "source": [
        "- **stats.distribution.pdf()** gives you the probability density (height of the distribution) at a given x value. Since the uniform distribution is flat, all x values within its range will have the same probability density and x values outside the range have a probability density of 0:"
      ],
      "metadata": {
        "id": "EgAUbRQHH0aq"
      }
    },
    {
      "cell_type": "code",
      "source": [
        "for x in range(-1,12,3):\n",
        "  print(\"Density at x value :\" + str(x))\n",
        "  print(stats.uniform.pdf(x,loc = 0,scale = 10))"
      ],
      "metadata": {
        "colab": {
          "base_uri": "https://localhost:8080/"
        },
        "id": "QzrQV4VjHxmT",
        "outputId": "fabb4df4-eff6-41e6-91f9-16b1ceee580f"
      },
      "execution_count": 35,
      "outputs": [
        {
          "output_type": "stream",
          "name": "stdout",
          "text": [
            "Density at x value :-1\n",
            "0.0\n",
            "Density at x value :2\n",
            "0.1\n",
            "Density at x value :5\n",
            "0.1\n",
            "Density at x value :8\n",
            "0.1\n",
            "Density at x value :11\n",
            "0.0\n"
          ]
        }
      ]
    },
    {
      "cell_type": "markdown",
      "source": [
        "**Probability distribution functions in scipy also support median(), mean(), var() and std().**\n",
        "\n",
        "## Generating random numbers and setting the seed\n",
        "\n",
        "When you need to generate random real numbers in a range with equal probability you can draw numbers from a uniform distribution using stats.distribution.rvs(). Python also comes with a library called \"random\" that lets you perform various randomization operations. Let's look at a few functions in the random library:\n"
      ],
      "metadata": {
        "id": "JI2DPTlLIYVP"
      }
    },
    {
      "cell_type": "code",
      "source": [
        "import random\n",
        "\n",
        "random.randint(0,10)  # get a random integer in the specified range"
      ],
      "metadata": {
        "colab": {
          "base_uri": "https://localhost:8080/"
        },
        "id": "xSj4qMR1ILjU",
        "outputId": "27ce5d0c-25ba-48d0-b421-e0035bc5a276"
      },
      "execution_count": 36,
      "outputs": [
        {
          "output_type": "execute_result",
          "data": {
            "text/plain": [
              "6"
            ]
          },
          "metadata": {},
          "execution_count": 36
        }
      ]
    },
    {
      "cell_type": "code",
      "source": [
        "random.choice([2,4,6,9]) # get a random element from a sequence"
      ],
      "metadata": {
        "colab": {
          "base_uri": "https://localhost:8080/"
        },
        "id": "a-H3WWTtVL3Y",
        "outputId": "3d86cc4f-dff6-4c50-f904-6d86e4124b58"
      },
      "execution_count": 37,
      "outputs": [
        {
          "output_type": "execute_result",
          "data": {
            "text/plain": [
              "2"
            ]
          },
          "metadata": {},
          "execution_count": 37
        }
      ]
    },
    {
      "cell_type": "code",
      "source": [
        "random.random() # get a real number b/w 0 and 1"
      ],
      "metadata": {
        "colab": {
          "base_uri": "https://localhost:8080/"
        },
        "id": "kQRCv3UZVy9F",
        "outputId": "d5af4e3c-8ca9-4402-ad7d-f5b78787a91c"
      },
      "execution_count": 38,
      "outputs": [
        {
          "output_type": "execute_result",
          "data": {
            "text/plain": [
              "0.2693867258756636"
            ]
          },
          "metadata": {},
          "execution_count": 38
        }
      ]
    },
    {
      "cell_type": "code",
      "source": [
        "random.uniform(0,10) # get a real number in the specified range"
      ],
      "metadata": {
        "colab": {
          "base_uri": "https://localhost:8080/"
        },
        "id": "bWE2YsgkV5rw",
        "outputId": "a8e5c320-a4db-4b56-d088-6a962b3ebfba"
      },
      "execution_count": 39,
      "outputs": [
        {
          "output_type": "execute_result",
          "data": {
            "text/plain": [
              "5.670074894564186"
            ]
          },
          "metadata": {},
          "execution_count": 39
        }
      ]
    },
    {
      "cell_type": "markdown",
      "source": [
        "Notice that the random library also lets you generate random uniform numbers. Regardless of the method you use to generate random numbers, however, the result of a random process can differ from one run to the next. Having results vary each time you run a function is often not desirable. For example, if you want a colleague to be able to reproduce your results exactly, you can run into problems when you use randomization. You can ensure that your results are the same each time you use a function that involves randomness by setting the random number generator's seed value to initialize it prior to running the function. Set the random seed with random.seed():"
      ],
      "metadata": {
        "id": "PI1QB_GlWGYF"
      }
    },
    {
      "cell_type": "code",
      "source": [
        "random.seed(12) # set the seed to an arbitrary value\n",
        "\n",
        "print([random.uniform(0,10) for x in range(4)])\n",
        "\n",
        "random.seed(12)  # set the seed to the same value\n",
        "\n",
        "print([random.uniform(0,10) for x in range(4)])"
      ],
      "metadata": {
        "colab": {
          "base_uri": "https://localhost:8080/"
        },
        "id": "yBIAoE09V9E-",
        "outputId": "c1553d24-e0d8-49b7-ab5d-99291eb1f1fa"
      },
      "execution_count": 40,
      "outputs": [
        {
          "output_type": "stream",
          "name": "stdout",
          "text": [
            "[4.7457067868854805, 6.574725026572553, 6.664104711248381, 1.4260035292536777]\n",
            "[4.7457067868854805, 6.574725026572553, 6.664104711248381, 1.4260035292536777]\n"
          ]
        }
      ]
    },
    {
      "cell_type": "markdown",
      "source": [
        "Notice that we generated the exact same numbers with both calls to random.uniform() because we set the same seed before each call. If we had not set the seed, we would have gotten different numbers. **This reproducibility illustrates the fact that these random numbers aren't truly random, but rather \"pseudorandom\".**\n",
        "\n",
        "Many functions in Python's libraries that use randomness have an optional random seed argument built in so that you don't have to set the seed outside of the function. For instance, the rvs() function has an optional argument random_state, that lets you set the seed.\n",
        "\n",
        "**Note: The Python standard library \"random\" has a separate internal seed from the numpy library. When using functions from numpy and libraries built on top of numpy (pandas, scipy, scikit-learn) use np.random.seed() to set the seed.**\n",
        "\n",
        "## The Normal Distribution\n",
        "\n",
        "The **normal or Gaussian distribution** is a continuous probability distribution characterized by a symmetric bell-shaped curve. A normal distribution is defined by its center (mean) and spread (standard deviation.). The bulk of the observations generated from a normal distribution lie near the mean, which lies at the exact center of the distribution: **as a rule of thumb, about 68% of the data lies within 1 standard deviation of the mean, 95% lies within 2 standard deviations and 99.7% lies within 3 standard deviations.**\n",
        "\n",
        "The normal distribution is perhaps the most important distribution in all of statistics. It turns out that many real world phenomena, like IQ test scores and human heights, roughly follow a normal distribution, so it is often used to model random variables. Many common statistical tests assume distributions are normal.\n",
        "\n",
        "The scipy nickname for the normal distribution is norm. Let's investigate the normal distribution:"
      ],
      "metadata": {
        "id": "4gxG64gnYhwW"
      }
    },
    {
      "cell_type": "code",
      "source": [
        "prob_under_minus1 = stats.norm.cdf(x = -1,\n",
        "                                   loc = 0,\n",
        "                                   scale = 1)\n",
        "prob_over_1 = 1 - stats.norm.cdf(x = 1,\n",
        "                             loc = 0,\n",
        "                             scale = 1)\n",
        "\n",
        "between_prob = 1 - (prob_under_minus1 + prob_over_1)\n",
        "\n",
        "print(prob_under_minus1,prob_over_1,between_prob)"
      ],
      "metadata": {
        "colab": {
          "base_uri": "https://localhost:8080/"
        },
        "id": "Vz-y9j5fWgSH",
        "outputId": "33e40f20-6e50-423f-ce8c-14f704edd4e8"
      },
      "execution_count": 41,
      "outputs": [
        {
          "output_type": "stream",
          "name": "stdout",
          "text": [
            "0.15865525393145707 0.15865525393145707 0.6826894921370859\n"
          ]
        }
      ]
    },
    {
      "cell_type": "markdown",
      "source": [
        "The output shows that roughly 16% of the data generated by a normal distribution with mean 0 and standard deviation 1 is below -1, 16% is above 1 and 68% lies between -1 and 1, which agrees with the 68, 95, 99.7 rule. Let's plot the normal distribution and inspect areas we calculated:"
      ],
      "metadata": {
        "id": "MqCB4kA9Zt3u"
      }
    },
    {
      "cell_type": "code",
      "source": [
        "plt.rcParams[\"figure.figsize\"] = (9,9)\n",
        "\n",
        "plt.fill_between(x = np.arange(-4,-1,0.01),\n",
        "                 y1 = stats.norm.pdf(x = np.arange(-4,-1,0.01)),\n",
        "                 facecolor = 'red',\n",
        "                 alpha = 0.35)\n",
        "\n",
        "plt.fill_between(x=np.arange(1,4,0.01),\n",
        "                 y1= stats.norm.pdf(np.arange(1,4,0.01)) ,\n",
        "                 facecolor='red',\n",
        "                 alpha=0.35)\n",
        "\n",
        "plt.fill_between(x=np.arange(-1,1,0.01),\n",
        "                 y1= stats.norm.pdf(np.arange(-1,1,0.01)) ,\n",
        "                 facecolor='blue',\n",
        "                 alpha=0.35)\n",
        "\n",
        "plt.text(x=-1.8, y=0.03, s= round(prob_under_minus1,3))\n",
        "plt.text(x=-0.2, y=0.1, s= round(between_prob,3))\n",
        "plt.text(x=1.4, y=0.03, s= round(prob_over_1,3));"
      ],
      "metadata": {
        "colab": {
          "base_uri": "https://localhost:8080/",
          "height": 753
        },
        "id": "7PNhSqMbZoWh",
        "outputId": "6c60d862-a4cf-4402-e2d6-7df163c12665"
      },
      "execution_count": 42,
      "outputs": [
        {
          "output_type": "display_data",
          "data": {
            "text/plain": [
              "<Figure size 900x900 with 1 Axes>"
            ],
            "image/png": "[encoded data removed]"
          },
          "metadata": {}
        }
      ]
    },
    {
      "cell_type": "markdown",
      "source": [
        "Note: This lesson uses some plotting code we did not cover in the plotting lesson in order to make plots for explanatory purposes.\n",
        "\n",
        "The plot above shows the bell shape of the normal distribution, the area below and above one standard deviation and the area within 1 standard deviation of the mean. Finding quantiles of the normal distribution is a common task when performing statistical tests. You can check normal distribution quantiles with stats.norm.ppf():"
      ],
      "metadata": {
        "id": "xYAuhVBoaSRA"
      }
    },
    {
      "cell_type": "code",
      "source": [
        "print(stats.norm.ppf(q = 0.025)) # find the quantile for the 2.5% cutoff\n",
        "print( stats.norm.ppf(q=0.975) ) # Find the quantile for the 97.5% cutoff"
      ],
      "metadata": {
        "colab": {
          "base_uri": "https://localhost:8080/"
        },
        "id": "rXf__sxJaKw1",
        "outputId": "547b608a-b784-4846-96cd-5b96a5268e45"
      },
      "execution_count": 43,
      "outputs": [
        {
          "output_type": "stream",
          "name": "stdout",
          "text": [
            "-1.9599639845400545\n",
            "1.959963984540054\n"
          ]
        }
      ]
    },
    {
      "cell_type": "markdown",
      "source": [
        "The quantile output above confirms that roughly 5% of the data lies more than 2 standard deviations from the mean.\n",
        "\n",
        "Note: a mean of 0 and standard deviation of 1 are default values for the normal distribution.\n",
        "\n",
        "## The Binomial Distribution\n",
        "\n",
        "The binomial distribution is a discrete probability distribution that models the outcomes of a given number of random trails of some experiment or event. The binomial is defined by two parameters: the probability of success in any given trial and the number of trials.\n",
        "\n",
        "The binomial distribution tells you how likely it is to achieve a given number of successes in n trials of the experiment. For example, we could model flipping a fair coin 10 times with a binomial distribution where the number of trials is set to 10 and the probability of success is set to 0.5. In this case the distribution would tell us how likely it is to get zero heads, 1 head, 2 heads and so on.\n",
        "\n",
        "The scipy name for the binomial is binom. Let's generate and investigate some binomial data:"
      ],
      "metadata": {
        "id": "c-MGZlkJarP3"
      }
    },
    {
      "cell_type": "code",
      "source": [
        "fair_coin_flips = stats.binom.rvs(n = 10,        # number of flips per trail\n",
        "                                  p = 0.5,       # probability of success\n",
        "                                  size = 10000)  # number of trials\n",
        "\n",
        "print(pd.crosstab(index = \"counts\",columns = fair_coin_flips))\n",
        "\n",
        "pd.DataFrame(fair_coin_flips).hist(range = (-0.5,10.5),bins = 11);"
      ],
      "metadata": {
        "colab": {
          "base_uri": "https://localhost:8080/",
          "height": 828
        },
        "id": "uZRZQz-vaiOd",
        "outputId": "7688bebd-6ab2-4ef4-81d6-daefe0a4ff09"
      },
      "execution_count": 44,
      "outputs": [
        {
          "output_type": "stream",
          "name": "stdout",
          "text": [
            "col_0   0   1    2     3     4     5     6     7    8   9   10\n",
            "row_0                                                         \n",
            "counts  17  98  463  1160  2048  2467  2057  1142  445  93  10\n"
          ]
        },
        {
          "output_type": "display_data",
          "data": {
            "text/plain": [
              "<Figure size 900x900 with 1 Axes>"
            ],
            "image/png": "[encoded data removed]"
          },
          "metadata": {}
        }
      ]
    },
    {
      "cell_type": "markdown",
      "source": [
        "Note that since the binomial distribution is discrete, it only takes on integer values so we can summarize binomial data with a frequency table and its distribution with a histogram. The histogram shows us that a binomial distribution with a 50% probability of success is roughly symmetric, with the most likely outcomes lying at the center. This is reminiscent of the normal distribution, but if we alter the success probability, the distribution won't be symmetric:"
      ],
      "metadata": {
        "id": "bYdJwEWJeMv2"
      }
    },
    {
      "cell_type": "code",
      "source": [
        "biased_coin_flips = stats.binom.rvs(n = 10,\n",
        "                                 p = 0.8,\n",
        "                                 size = 10000)\n",
        "\n",
        "# Print table of counts\n",
        "print( pd.crosstab(index=\"counts\", columns= biased_coin_flips))\n",
        "\n",
        "# Plot histogram\n",
        "pd.DataFrame(biased_coin_flips).hist(range=(-0.5,10.5), bins=11);"
      ],
      "metadata": {
        "colab": {
          "base_uri": "https://localhost:8080/",
          "height": 828
        },
        "id": "_bWecWXReCmW",
        "outputId": "7e1c9966-e966-40e4-9b47-9792329edc4e"
      },
      "execution_count": 45,
      "outputs": [
        {
          "output_type": "stream",
          "name": "stdout",
          "text": [
            "col_0   3   4    5    6     7     8     9     10\n",
            "row_0                                           \n",
            "counts   4  49  264  877  2054  2985  2696  1071\n"
          ]
        },
        {
          "output_type": "display_data",
          "data": {
            "text/plain": [
              "<Figure size 900x900 with 1 Axes>"
            ],
            "image/png": "[encoded data removed]"
          },
          "metadata": {}
        }
      ]
    },
    {
      "cell_type": "markdown",
      "source": [
        "The cdf() function lets us check the probability of achieving a number of successes within a certain range:\n",
        "\n"
      ],
      "metadata": {
        "id": "dni4JxjGeb0L"
      }
    },
    {
      "cell_type": "code",
      "source": [
        "stats.binom.cdf(k=5,        # Probability of k = 5 successes or less\n",
        "                n=10,       # With 10 flips\n",
        "                p=0.8)      # And success probability 0.8"
      ],
      "metadata": {
        "colab": {
          "base_uri": "https://localhost:8080/"
        },
        "id": "DMHlVFtdeXKQ",
        "outputId": "611800f0-201b-4870-af70-97ef142a8f65"
      },
      "execution_count": 46,
      "outputs": [
        {
          "output_type": "execute_result",
          "data": {
            "text/plain": [
              "0.03279349759999997"
            ]
          },
          "metadata": {},
          "execution_count": 46
        }
      ]
    },
    {
      "cell_type": "code",
      "source": [
        "1 - stats.binom.cdf(k=8,        # Probability of k = 9 successes or more\n",
        "                    n=10,       # With 10 flips\n",
        "                    p=0.8)      # And success probability 0.8"
      ],
      "metadata": {
        "colab": {
          "base_uri": "https://localhost:8080/"
        },
        "id": "QD5KDtqQejt_",
        "outputId": "03487d3b-5da3-4dd6-bfbe-72476a1db811"
      },
      "execution_count": 47,
      "outputs": [
        {
          "output_type": "execute_result",
          "data": {
            "text/plain": [
              "0.37580963840000015"
            ]
          },
          "metadata": {},
          "execution_count": 47
        }
      ]
    },
    {
      "cell_type": "markdown",
      "source": [
        "For continuous probability density functions, you use pdf() to check the probability density at a given x value. For discrete distributions like the binomial, use stats.distribution.pmf() (probability mass function) to check the mass (proportion of observations) at given number of successes k:"
      ],
      "metadata": {
        "id": "yy5lnV1KetbG"
      }
    },
    {
      "cell_type": "code",
      "source": [
        "stats.binom.pmf(k=5,        # Probability of k = 5 successes\n",
        "                n=10,       # With 10 flips\n",
        "                p=0.5)      # And success probability 0.5"
      ],
      "metadata": {
        "colab": {
          "base_uri": "https://localhost:8080/"
        },
        "id": "NZIVZIJ8eo-n",
        "outputId": "0cd76dff-b99f-4850-e99c-d39d74ce8b78"
      },
      "execution_count": 48,
      "outputs": [
        {
          "output_type": "execute_result",
          "data": {
            "text/plain": [
              "0.24609375000000003"
            ]
          },
          "metadata": {},
          "execution_count": 48
        }
      ]
    },
    {
      "cell_type": "code",
      "source": [
        "stats.binom.pmf(k=8,        # Probability of k = 8 successes\n",
        "                n=10,       # With 10 flips\n",
        "                p=0.8)      # And success probability 0.8"
      ],
      "metadata": {
        "colab": {
          "base_uri": "https://localhost:8080/"
        },
        "id": "YGcKBmeZevqh",
        "outputId": "b9fa8899-0ea2-4925-c92e-ba5053b54ab2"
      },
      "execution_count": 49,
      "outputs": [
        {
          "output_type": "execute_result",
          "data": {
            "text/plain": [
              "0.30198988799999993"
            ]
          },
          "metadata": {},
          "execution_count": 49
        }
      ]
    },
    {
      "cell_type": "markdown",
      "source": [
        "## The Geometric and Exponential Distributions\n",
        "\n",
        "The geometric and exponential distributions model the time it takes for an event to occur.\n",
        "- The **geometric distribution** is discrete and models the number of trials it takes to achieve a success in repeated experiments with a given probability of success.\n",
        "- The **exponential distribution** is a continuous analog of the geometric distribution and models the amount of time you have to wait before an event occurs given a certain occurrence rate.\n",
        "\n",
        "The scipy nickname for the geometric distribution is \"**geom**\". Let's use the geom functions to model the number of trials it takes to get a success (heads) when flipping a fair coin:\n",
        "\n"
      ],
      "metadata": {
        "id": "Y-Voy014e1dS"
      }
    },
    {
      "cell_type": "code",
      "source": [
        "random.seed(12)\n",
        "\n",
        "flips_till_heads = stats.geom.rvs(size=10000,  # Generate geometric data\n",
        "                                  p=0.5)       # With success prob 0.5\n",
        "\n",
        "# Print table of counts\n",
        "print( pd.crosstab(index=\"counts\", columns= flips_till_heads))\n",
        "\n",
        "# Plot histogram\n",
        "pd.DataFrame(flips_till_heads).hist(range=(-0.5,max(flips_till_heads)+0.5)\n",
        "                                    , bins=max(flips_till_heads)+1);"
      ],
      "metadata": {
        "colab": {
          "base_uri": "https://localhost:8080/",
          "height": 898
        },
        "id": "8fxggoS2ey23",
        "outputId": "50fac6bb-5fc6-4115-fbcb-beecb85da777"
      },
      "execution_count": 50,
      "outputs": [
        {
          "output_type": "stream",
          "name": "stdout",
          "text": [
            "col_0     1     2     3    4    5    6   7   8   9   10  11  12  13  14  15  \\\n",
            "row_0                                                                         \n",
            "counts  4986  2502  1235  635  337  138  78  44  14  18   1   5   3   2   1   \n",
            "\n",
            "col_0   16  \n",
            "row_0       \n",
            "counts   1  \n"
          ]
        },
        {
          "output_type": "display_data",
          "data": {
            "text/plain": [
              "<Figure size 900x900 with 1 Axes>"
            ],
            "image/png": "[encoded data removed]"
          },
          "metadata": {}
        }
      ]
    },
    {
      "cell_type": "markdown",
      "source": [
        "The distribution looks similar to what we'd expect: it is very likely to get a heads in 1 or 2 flips, while it is very unlikely for it to take more than 5 flips to get a heads. In the 10,000 trails we generated, the longest it took to get a heads was 13 flips.\n",
        "\n",
        "Let's use cdf() to check the probability of needing 6 flips or more to get a success:"
      ],
      "metadata": {
        "id": "lc9Sv9cKfX9o"
      }
    },
    {
      "cell_type": "code",
      "source": [
        "first_five = stats.geom.cdf(k=5,   # Prob of success in first 5 flips\n",
        "                           p=0.5)\n",
        "\n",
        "1 - first_five\n"
      ],
      "metadata": {
        "colab": {
          "base_uri": "https://localhost:8080/"
        },
        "id": "QyuWaGQbfPQX",
        "outputId": "73cd05da-e244-47e0-b3b3-ccd2b1244469"
      },
      "execution_count": 51,
      "outputs": [
        {
          "output_type": "execute_result",
          "data": {
            "text/plain": [
              "0.03125"
            ]
          },
          "metadata": {},
          "execution_count": 51
        }
      ]
    },
    {
      "cell_type": "markdown",
      "source": [
        "Use pmf() to check the probability of seeing a specific number of flips before a successes:"
      ],
      "metadata": {
        "id": "343F0V9YfcNu"
      }
    },
    {
      "cell_type": "code",
      "source": [
        "stats.geom.pmf(k=2,   # Prob of needing exactly 2 flips to get first success\n",
        "              p=0.5)"
      ],
      "metadata": {
        "colab": {
          "base_uri": "https://localhost:8080/"
        },
        "id": "n53Q8W4afaPW",
        "outputId": "46e37966-33e1-4fd8-b15c-e8331084eecf"
      },
      "execution_count": 52,
      "outputs": [
        {
          "output_type": "execute_result",
          "data": {
            "text/plain": [
              "0.25"
            ]
          },
          "metadata": {},
          "execution_count": 52
        }
      ]
    },
    {
      "cell_type": "markdown",
      "source": [
        "The scipy name for the exponential distribution is \"expon\". Let's investigate the exponential distribution:"
      ],
      "metadata": {
        "id": "gfnwWcx0g0Pn"
      }
    },
    {
      "cell_type": "code",
      "source": [
        "# Get the probability of waiting more than 1 time unit before a success\n",
        "\n",
        "prob_1 = stats.expon.cdf(x=1,\n",
        "                         scale=1)  # Arrival rate\n",
        "\n",
        "1 - prob_1"
      ],
      "metadata": {
        "colab": {
          "base_uri": "https://localhost:8080/"
        },
        "id": "nFa-Kf2_fdyi",
        "outputId": "e1630132-9c9f-4bf2-8bf6-aef4cc3aa229"
      },
      "execution_count": 53,
      "outputs": [
        {
          "output_type": "execute_result",
          "data": {
            "text/plain": [
              "0.36787944117144233"
            ]
          },
          "metadata": {},
          "execution_count": 53
        }
      ]
    },
    {
      "cell_type": "markdown",
      "source": [
        "Note: The average arrival time for the exponential distribution is equal to 1/arrival_rate.\n",
        "\n",
        "Let's plot this exponential distribution to get an idea of its shape:"
      ],
      "metadata": {
        "id": "JY0UvMMPg46W"
      }
    },
    {
      "cell_type": "code",
      "source": [
        "plt.fill_between(x=np.arange(0,1,0.01),\n",
        "                 y1= stats.expon.pdf(np.arange(0,1,0.01)) ,\n",
        "                 facecolor='blue',\n",
        "                 alpha=0.35)\n",
        "\n",
        "plt.fill_between(x=np.arange(1,7,0.01),\n",
        "                 y1= stats.expon.pdf(np.arange(1,7,0.01)) ,\n",
        "                 facecolor='red',\n",
        "                 alpha=0.35)\n",
        "\n",
        "\n",
        "plt.text(x=0.3, y=0.2, s= round(prob_1,3))\n",
        "plt.text(x=1.5, y=0.08, s= round(1 - prob_1,3));"
      ],
      "metadata": {
        "colab": {
          "base_uri": "https://localhost:8080/",
          "height": 753
        },
        "id": "4T_b2LjKg2I2",
        "outputId": "ecdc1f5d-f1bd-4f99-d7ce-98120878e71e"
      },
      "execution_count": 54,
      "outputs": [
        {
          "output_type": "display_data",
          "data": {
            "text/plain": [
              "<Figure size 900x900 with 1 Axes>"
            ],
            "image/png": "[encoded data removed]"
          },
          "metadata": {}
        }
      ]
    },
    {
      "cell_type": "markdown",
      "source": [
        "Similar to the geometric distribution, the exponential starts high and has a long tail that trails off to the right that contains rare cases where you have to wait much longer than average for an arrival.\n",
        "\n",
        "## The Poisson Distribution\n",
        "\n",
        "The Poisson distribution models the probability of seeing a certain number of successes within a time interval, where the time it takes for the next success is modeled by an exponential distribution. **The Poisson distribution can be used to model traffic, such as the number of arrivals a hospital can expect in a hour's time or the number of emails you'd expect to receive in a week.**\n",
        "\n",
        "The scipy name for the Poisson distribution is \"poisson\". Let's generate and plot some data from a Poisson distribution with an arrival rate of 1 per time unit:"
      ],
      "metadata": {
        "id": "bSTUGONFg9mj"
      }
    },
    {
      "cell_type": "code",
      "source": [
        "random.seed(12)\n",
        "\n",
        "arrival_rate_1 = stats.poisson.rvs(size=10000,  # Generate Poisson data\n",
        "                                   mu=1 )       # Average arrival time 1\n",
        "\n",
        "# Print table of counts\n",
        "print( pd.crosstab(index=\"counts\", columns= arrival_rate_1))\n",
        "\n",
        "# Plot histogram\n",
        "pd.DataFrame(arrival_rate_1).hist(range=(-0.5,max(arrival_rate_1)+0.5)\n",
        "                                    , bins=max(arrival_rate_1)+1);"
      ],
      "metadata": {
        "colab": {
          "base_uri": "https://localhost:8080/",
          "height": 828
        },
        "id": "viNQ1Jy_g6zs",
        "outputId": "439dd796-7d9b-4014-bb09-d3d86d172dd4"
      },
      "execution_count": 55,
      "outputs": [
        {
          "output_type": "stream",
          "name": "stdout",
          "text": [
            "col_0      0     1     2    3    4   5  6  7\n",
            "row_0                                       \n",
            "counts  3749  3578  1867  615  149  35  6  1\n"
          ]
        },
        {
          "output_type": "display_data",
          "data": {
            "text/plain": [
              "<Figure size 900x900 with 1 Axes>"
            ],
            "image/png": "[encoded data removed]"
          },
          "metadata": {}
        }
      ]
    },
    {
      "cell_type": "markdown",
      "source": [
        "The histogram shows that when arrivals are relatively infrequent, it is rare to see more than a couple of arrivals in each time period. When the arrival rate is high, it becomes increasingly rare to see a low number of arrivals and the distribution starts to look more symmetric:"
      ],
      "metadata": {
        "id": "-vQ7hylvhOlw"
      }
    },
    {
      "cell_type": "code",
      "source": [
        "random.seed(12)\n",
        "\n",
        "arrival_rate_10 = stats.poisson.rvs(size=10000,  # Generate Poisson data\n",
        "                                   mu=10 )       # Average arrival time 10\n",
        "\n",
        "# Print table of counts\n",
        "print( pd.crosstab(index=\"counts\", columns= arrival_rate_10))\n",
        "\n",
        "# Plot histogram\n",
        "pd.DataFrame(arrival_rate_10).hist(range=(-0.5,max(arrival_rate_10)+0.5)\n",
        "                                    , bins=max(arrival_rate_10)+1);"
      ],
      "metadata": {
        "colab": {
          "base_uri": "https://localhost:8080/",
          "height": 932
        },
        "id": "f50-kemShK7s",
        "outputId": "8ee44794-c6e7-4ec0-da34-b1701a4adff4"
      },
      "execution_count": 56,
      "outputs": [
        {
          "output_type": "stream",
          "name": "stdout",
          "text": [
            "col_0   0   1   2   3    4    5    6    7     8     9   ...   15   16   17  \\\n",
            "row_0                                                   ...                  \n",
            "counts   2   4  18  73  176  342  614  909  1111  1292  ...  349  226  138   \n",
            "\n",
            "col_0   18  19  20  21  22  23  25  \n",
            "row_0                               \n",
            "counts  67  32  22   7   5   2   1  \n",
            "\n",
            "[1 rows x 25 columns]\n"
          ]
        },
        {
          "output_type": "display_data",
          "data": {
            "text/plain": [
              "<Figure size 900x900 with 1 Axes>"
            ],
            "image/png": "[encoded data removed]"
          },
          "metadata": {}
        }
      ]
    },
    {
      "cell_type": "markdown",
      "source": [
        "As with other discrete probability distributions, we can use cdf() to check the probability of achieving more or less than a certain number of successes and pmf() to check the probability of obtaining a specific number of successes:"
      ],
      "metadata": {
        "id": "KKErRmAehXf_"
      }
    },
    {
      "cell_type": "code",
      "source": [
        "stats.poisson.cdf(k=5,     # Check the probability of 5 arrivals or less\n",
        "                  mu=10)   # With arrival rate 10"
      ],
      "metadata": {
        "colab": {
          "base_uri": "https://localhost:8080/"
        },
        "id": "cBZBsgJLhQ70",
        "outputId": "704429ed-674e-4412-aad4-c35f440f378b"
      },
      "execution_count": 57,
      "outputs": [
        {
          "output_type": "execute_result",
          "data": {
            "text/plain": [
              "0.06708596287903189"
            ]
          },
          "metadata": {},
          "execution_count": 57
        }
      ]
    },
    {
      "cell_type": "code",
      "source": [
        "stats.poisson.pmf(k=10,     # Check the prob f exactly 10 arrivals\n",
        "                  mu=10)    # With arrival rate 10"
      ],
      "metadata": {
        "colab": {
          "base_uri": "https://localhost:8080/"
        },
        "id": "R0TDHe2dhZHt",
        "outputId": "dc413c25-d942-4fd9-b212-3b941f3d345c"
      },
      "execution_count": 58,
      "outputs": [
        {
          "output_type": "execute_result",
          "data": {
            "text/plain": [
              "0.12511003572113372"
            ]
          },
          "metadata": {},
          "execution_count": 58
        }
      ]
    },
    {
      "cell_type": "markdown",
      "source": [
        "Python's scipy library contains functions that make it easy to work with a wide range of probability distributions, including many that we did not discuss in this lesson. Probability distribution functions are useful for generating random data, modeling random events and aiding with statistical tests and analysis.\n",
        "\n",
        "# Confidence Intervals\n",
        "\n",
        "link to lesson: https://www.kaggle.com/code/hamelg/python-for-data-23-confidence-intervals\n",
        "\n",
        "To this point, this guide has focused on the functions and syntax necessary to manipulate, explore and describe data. **Data cleaning and exploratory analysis are often preliminary steps toward the end goal of extracting insight from data through statistical inference or predictive modeling.** The remainder of this guide will focus on methods for analyzing data and tools for carrying out analyses in Python.\n",
        "\n",
        "**Statistical inference** is the process of analyzing sample data to gain insight into the population from which the data was collected and to investigate differences between data samples.\n",
        "\n",
        "In data analysis, we are often interested in the characteristics of some large population, but collecting data on the entire population may be infeasible. For example, leading up to U.S. presidential elections it could be very useful to know the political leanings of every single eligible voter, but surveying every voter is not feasible. Instead, we could poll some subset of the population, such as a thousand registered voters, and use that data to make inferences about the population as a whole.\n",
        "\n",
        "## Point Estimates\n",
        "\n",
        "**Point estimates** are estimates of population parameters based on sample data. For instance, if we wanted to know the average age of registered voters in the U.S., we could take a survey of registered voters and then use the average age of the respondents as a point estimate of the average age of the population as a whole. **The average of a sample is known as the sample mean.**\n",
        "\n",
        "**The sample mean is usually not exactly the same as the population mean.** This difference can be caused by many factors including poor survey design, biased sampling methods and the randomness inherent to drawing a sample from a population. Let's investigate point estimates by generating a population of random age data and then drawing a sample from it to estimate the mean:"
      ],
      "metadata": {
        "id": "QoKpF25bhf_t"
      }
    },
    {
      "cell_type": "code",
      "source": [
        "import math"
      ],
      "metadata": {
        "id": "FIIcVamhjWDv"
      },
      "execution_count": 59,
      "outputs": []
    },
    {
      "cell_type": "code",
      "source": [
        "np.random.seed(10)\n",
        "\n",
        "population_ages1 = stats.poisson.rvs(loc=18, mu=35,size = 150000)\n",
        "population_ages2 = stats.poisson.rvs(loc=18, mu=10, size=100000)\n",
        "population_ages = np.concatenate((population_ages1, population_ages2))\n",
        "\n",
        "population_ages.mean()"
      ],
      "metadata": {
        "colab": {
          "base_uri": "https://localhost:8080/"
        },
        "id": "aRTKw1K6jYUx",
        "outputId": "e7f09026-eff8-430a-8911-fc7305706e07"
      },
      "execution_count": 60,
      "outputs": [
        {
          "output_type": "execute_result",
          "data": {
            "text/plain": [
              "43.002372"
            ]
          },
          "metadata": {},
          "execution_count": 60
        }
      ]
    },
    {
      "cell_type": "code",
      "source": [
        "np.random.seed(6)\n",
        "sample_ages = np.random.choice(a= population_ages,\n",
        "                               size=500)            # Sample 1000 values\n",
        "\n",
        "print ( sample_ages.mean() )                         # Show sample mean\n",
        "\n",
        "population_ages.mean() - sample_ages.mean()   # Check difference between means\n"
      ],
      "metadata": {
        "colab": {
          "base_uri": "https://localhost:8080/"
        },
        "id": "n_IvYM7Cjqxq",
        "outputId": "a0558d46-6c62-49f8-cf05-370a0dfca3a3"
      },
      "execution_count": 61,
      "outputs": [
        {
          "output_type": "stream",
          "name": "stdout",
          "text": [
            "42.388\n"
          ]
        },
        {
          "output_type": "execute_result",
          "data": {
            "text/plain": [
              "0.614372000000003"
            ]
          },
          "metadata": {},
          "execution_count": 61
        }
      ]
    },
    {
      "cell_type": "markdown",
      "source": [
        "Our point estimate based on a sample of 500 individuals underestimates the true population mean by 0.6 years, but it is close. This illustrates an important point: we can get a fairly accurate estimate of a large population by sampling a relatively small subset of individuals.\n",
        "\n",
        "**Another point estimate that may be of interest is the proportion of the population that belongs to some category or subgroup.** For example, we might like to know the race of each voter we poll, to get a sense of the overall demographics of the voter base. You can make a point estimate of this sort of proportion by taking a sample and then checking the ratio in the sample:"
      ],
      "metadata": {
        "id": "uSJEjpEoj5-0"
      }
    },
    {
      "cell_type": "code",
      "source": [
        "random.seed(10)\n",
        "population_races = ([\"white\"]*100000) + ([\"black\"]*50000) + ([\"hispanic\"]*50000) + ([\"asian\"]*25000) + ([\"other\"]*25000)\n",
        "\n",
        "demo_sample = random.sample(population_races, 1000)   # Sample 1000 values\n",
        "\n",
        "for race in set(demo_sample):\n",
        "    print( race + \" proportion estimate:\" )\n",
        "    print( demo_sample.count(race)/1000 )"
      ],
      "metadata": {
        "colab": {
          "base_uri": "https://localhost:8080/"
        },
        "id": "HT3OeIUUj06f",
        "outputId": "eba8b886-f442-4372-f38b-58e50d67bd0b"
      },
      "execution_count": 62,
      "outputs": [
        {
          "output_type": "stream",
          "name": "stdout",
          "text": [
            "other proportion estimate:\n",
            "0.099\n",
            "white proportion estimate:\n",
            "0.379\n",
            "asian proportion estimate:\n",
            "0.099\n",
            "black proportion estimate:\n",
            "0.231\n",
            "hispanic proportion estimate:\n",
            "0.192\n"
          ]
        }
      ]
    },
    {
      "cell_type": "markdown",
      "source": [
        "**Notice that the proportion estimates are close to the true underlying population proportions.**\n",
        "\n",
        "# Sampling Distributions and The Central Limit Theorem\n",
        "\n",
        "Many statistical procedures assume that data follows a normal distribution, because the normal distribution has nice properties like symmetricity and having the majority of the data clustered within a few standard deviations of the mean. Unfortunately, real world data is often not normally distributed and the distribution of a sample tends to mirror the distribution of the population. This means a sample taken from a population with a skewed distribution will also tend to be skewed. Let's investigate by plotting the data and sample we created earlier and by checking the skew:"
      ],
      "metadata": {
        "id": "ZItFNzDukXgC"
      }
    },
    {
      "cell_type": "code",
      "source": [
        "pd.DataFrame(population_ages).hist(bins=58,\n",
        "                                  range=(17.5,75.5),\n",
        "                                  figsize=(9,9))\n",
        "\n",
        "print( stats.skew(population_ages) );"
      ],
      "metadata": {
        "colab": {
          "base_uri": "https://localhost:8080/",
          "height": 793
        },
        "id": "KWk3I4hbkLtr",
        "outputId": "5b6dc48f-c483-4f11-c068-fdd56d750283"
      },
      "execution_count": 63,
      "outputs": [
        {
          "output_type": "stream",
          "name": "stdout",
          "text": [
            "-0.12008483603917186\n"
          ]
        },
        {
          "output_type": "display_data",
          "data": {
            "text/plain": [
              "<Figure size 900x900 with 1 Axes>"
            ],
            "image/png": "[encoded data removed]"
          },
          "metadata": {}
        }
      ]
    },
    {
      "cell_type": "markdown",
      "source": [
        "The distribution has low skewness, but the plot reveals the data is clearly not normal: instead of one symmetric bell curve, it has as bimodal distribution with two high density peaks. The sample we drew from this population should have roughly the same shape and skew:"
      ],
      "metadata": {
        "id": "7EPSuWEYkrce"
      }
    },
    {
      "cell_type": "code",
      "source": [
        "pd.DataFrame(sample_ages).hist(bins=58,\n",
        "                                  range=(17.5,75.5),\n",
        "                                  figsize=(9,9));\n",
        "\n",
        "print( stats.skew(sample_ages) )"
      ],
      "metadata": {
        "colab": {
          "base_uri": "https://localhost:8080/",
          "height": 793
        },
        "id": "nRW2mirZklyf",
        "outputId": "41177f0a-f70f-42e3-890a-f944e07aebc5"
      },
      "execution_count": 64,
      "outputs": [
        {
          "output_type": "stream",
          "name": "stdout",
          "text": [
            "-0.056225282585406065\n"
          ]
        },
        {
          "output_type": "display_data",
          "data": {
            "text/plain": [
              "<Figure size 900x900 with 1 Axes>"
            ],
            "image/png": "[encoded data removed]"
          },
          "metadata": {}
        }
      ]
    },
    {
      "cell_type": "markdown",
      "source": [
        "The sample has roughly the same shape as the underlying population. This suggests that we can't apply techniques that assume a normal distribution to this data set, since it is not normal. In reality, we can, thanks the central limit theorem.\n",
        "\n",
        "The **central limit theorem** is one of the most important results of probability theory and serves as the foundation of many methods of statistical analysis.\n",
        "\n",
        "***\"At a high level, the theorem states the distribution of many sample means, known as a sampling distribution, will be normally distributed. This rule holds even if the underlying distribution itself is not normally distributed. As a result we can treat the sample mean as if it were drawn normal distribution.\"***\n",
        "\n",
        "To illustrate, let's create a sampling distribution by taking 200 samples from our population and then making 200 point estimates of the mean:"
      ],
      "metadata": {
        "id": "_DukwJTWkw4s"
      }
    },
    {
      "cell_type": "code",
      "source": [
        "np.random.seed(10)\n",
        "\n",
        "point_estimates = []         # Make empty list to hold point estimates\n",
        "\n",
        "for x in range(200):         # Generate 200 samples\n",
        "    sample = np.random.choice(a= population_ages, size=500)\n",
        "    point_estimates.append( sample.mean() )\n",
        "\n",
        "pd.DataFrame(point_estimates).plot(kind=\"density\",  # Plot sample mean density\n",
        "                                   figsize=(9,9),\n",
        "                                   xlim=(41,45));"
      ],
      "metadata": {
        "colab": {
          "base_uri": "https://localhost:8080/",
          "height": 753
        },
        "id": "2XT-yyKmktMv",
        "outputId": "62c5bcc8-1761-482b-d119-92637613f54d"
      },
      "execution_count": 65,
      "outputs": [
        {
          "output_type": "display_data",
          "data": {
            "text/plain": [
              "<Figure size 900x900 with 1 Axes>"
            ],
            "image/png": "[encoded data removed]"
          },
          "metadata": {}
        }
      ]
    },
    {
      "cell_type": "markdown",
      "source": [
        "**The sampling distribution appears to be roughly normal, despite the bimodal population distribution that the samples were drawn from. In addition, the mean of the sampling distribution approaches the true population mean:**"
      ],
      "metadata": {
        "id": "Ycc9M37ulQCg"
      }
    },
    {
      "cell_type": "code",
      "source": [
        "population_ages.mean() - np.array(point_estimates).mean()"
      ],
      "metadata": {
        "colab": {
          "base_uri": "https://localhost:8080/"
        },
        "id": "3dHScsBtlHOX",
        "outputId": "e31b2ba0-8b27-4fd3-a332-773a73b9404f"
      },
      "execution_count": 66,
      "outputs": [
        {
          "output_type": "execute_result",
          "data": {
            "text/plain": [
              "-0.08440799999999626"
            ]
          },
          "metadata": {},
          "execution_count": 66
        }
      ]
    },
    {
      "cell_type": "markdown",
      "source": [
        "The more samples we take, the better our estimate of the population parameter is likely to be.\n",
        "\n",
        "## Confidence Intervals\n",
        "\n",
        "A point estimate can give you a rough idea of a population parameter like the mean, but estimates are prone to error and taking multiple samples to get improved estimates may not be feasible. A confidence interval is a range of values above and below a point estimate that captures the true population parameter at some predetermined confidence level. For example, if you want to have a 95% chance of capturing the true population parameter with a point estimate and a corresponding confidence interval, you'd set your confidence level to 95%. Higher confidence levels result in a wider confidence intervals.\n",
        "\n",
        "Calculate a confidence interval by taking a point estimate and then adding and subtracting a margin of error to create a range. Margin of error is based on your desired confidence level, the spread of the data and the size of your sample. The way you calculate the margin of error depends on whether you know the standard deviation of the population or not.\n",
        "\n",
        "If you know the standard deviation of the population, the margin of error is equal to:\n",
        "\n",
        "$$z* \\dfrac{σ}{\\sqrt{n}} $$\n",
        "\n",
        "Where **σ (sigma)** is the population standard deviation, n is sample size, and z is a number known as the **z-critical value**. The z-critical value is the number of standard deviations you'd have to go from the mean of the normal distribution to capture the proportion of the data associated with the desired confidence level. For instance, we know that roughly 95% of the data in a normal distribution lies within 2 standard deviations of the mean, so we could use 2 as the z-critical value for a 95% confidence interval (although it is more exact to get z-critical values with stats.norm.ppf().).\n",
        "\n",
        "Let's calculate a 95% confidence for our mean point estimate:"
      ],
      "metadata": {
        "id": "N7hX1FmDl9Hv"
      }
    },
    {
      "cell_type": "code",
      "source": [
        "np.random.seed(10)\n",
        "\n",
        "sample_size = 1000\n",
        "sample = np.random.choice(a = population_ages, size = sample_size)\n",
        "sample_mean = sample.mean()\n",
        "\n",
        "z_critical = stats.norm.ppf(q = 0.975) # get the z-critical value\n",
        "\n",
        "print(\"z-critical value:\")\n",
        "print(z_critical)\n",
        "\n",
        "pop_std_dev = population_ages.std() # get the population standard deviation\n",
        "\n",
        "margin_of_error = z_critical * (pop_std_dev / math.sqrt(sample_size))\n",
        "\n",
        "confidence_interval = (sample_mean - margin_of_error,\n",
        "                       sample_mean + margin_of_error)\n",
        "\n",
        "print(\"Confidence interval:\")\n",
        "print(confidence_interval)"
      ],
      "metadata": {
        "colab": {
          "base_uri": "https://localhost:8080/"
        },
        "id": "0Hl6welGbNVF",
        "outputId": "28cc1e8e-2a4e-47c1-dd99-6a843c5049a7"
      },
      "execution_count": 67,
      "outputs": [
        {
          "output_type": "stream",
          "name": "stdout",
          "text": [
            "z-critical value:\n",
            "1.959963984540054\n",
            "Confidence interval:\n",
            "(41.70306406882683, 43.34293593117317)\n"
          ]
        }
      ]
    },
    {
      "cell_type": "markdown",
      "source": [
        "*Note: We use stats.norm.ppf(q = 0.975) to get the desired z-critical value instead of q = 0.95 because the distribution has two tails.*\n",
        "\n",
        "Notice that the confidence interval we calculated captures the true population mean of 43.0023.\n",
        "\n",
        "Let's create several confidence intervals and plot them to get a better sense of what it means to \"capture\" the true mean:"
      ],
      "metadata": {
        "id": "6-FCnTCVb1UX"
      }
    },
    {
      "cell_type": "code",
      "source": [
        "np.random.seed(10)\n",
        "\n",
        "sample_size = 1000\n",
        "\n",
        "intervals = []\n",
        "sample_means = []\n",
        "\n",
        "for sample in range(25):\n",
        "    sample = np.random.choice(a = population_ages, size = sample_size)\n",
        "    sample_mean = sample.mean()\n",
        "    sample_means.append(sample_mean)\n",
        "\n",
        "    z_critical = stats.norm.ppf(q = 0.975) # get the z-critical value\n",
        "\n",
        "    pop_std_dev = population_ages.std() # get the population standard deviation\n",
        "\n",
        "    stats.norm.ppf(q = 0.025)\n",
        "\n",
        "    margin_of_error = z_critical * (pop_std_dev/math.sqrt(sample_size))\n",
        "\n",
        "    confidence_interval = (sample_mean - margin_of_error,\n",
        "                           sample_mean + margin_of_error)\n",
        "\n",
        "    intervals.append(confidence_interval)\n"
      ],
      "metadata": {
        "id": "ZT0EW0gbbxuH"
      },
      "execution_count": 68,
      "outputs": []
    },
    {
      "cell_type": "code",
      "source": [
        "plt.figure(figsize=(9,9))\n",
        "\n",
        "plt.errorbar(x=np.arange(0.1, 25, 1),\n",
        "             y=sample_means,\n",
        "             yerr=[np.abs((top-bot))/2 for top,bot in intervals],\n",
        "             fmt='o')\n",
        "\n",
        "plt.hlines(xmin=0, xmax=25,\n",
        "           y=43.0023,\n",
        "           linewidth=2.0,\n",
        "           color=\"red\");"
      ],
      "metadata": {
        "colab": {
          "base_uri": "https://localhost:8080/",
          "height": 753
        },
        "id": "JhbsfR1dcgLj",
        "outputId": "a801dfb0-9627-4306-85ae-d41dbc369766"
      },
      "execution_count": 72,
      "outputs": [
        {
          "output_type": "display_data",
          "data": {
            "text/plain": [
              "<Figure size 900x900 with 1 Axes>"
            ],
            "image/png": "[encoded data removed]"
          },
          "metadata": {}
        }
      ]
    },
    {
      "cell_type": "markdown",
      "source": [
        "Notice that in the plot above, all but one of the 95% confidence intervals overlap the red line marking the true mean. This is to be expected: since a 95% confidence interval captures the true mean 95% of the time, we'd expect our interval to miss the true mean 5% of the time.\n",
        "\n",
        "If you don't know the standard deviation of the population, you have to use the standard deviation of your sample as a stand in when creating confidence intervals. Since the sample standard deviation may not match the population parameter the interval will have more error when you don't know the population standard deviation. To account for this error, we use what's known as a t-critical value instead of the z-critical value. The t-critical value is drawn from what's known as a t-distribution--a distribution that closely resembles the normal distribution but that gets wider and wider as the sample size falls. The t-distribution is available in scipy.stats with the nickname \"t\" so we can get t-critical values with stats.t.ppf().\n",
        "\n",
        "Let's take a new, smaller sample and then create a confidence interval without the population standard deviation, using the t-distribution:"
      ],
      "metadata": {
        "id": "q8NwkGQs5oZ3"
      }
    },
    {
      "cell_type": "code",
      "source": [
        "np.random.seed(10)\n",
        "\n",
        "sample_size = 25\n",
        "sample = np.random.choice(a= population_ages, size = sample_size)\n",
        "sample_mean = sample.mean()\n",
        "\n",
        "t_critical = stats.t.ppf(q = 0.975, df=24)  # Get the t-critical value*\n",
        "\n",
        "print(\"t-critical value:\")                  # Check the t-critical value\n",
        "print(t_critical)\n",
        "\n",
        "sample_stdev = sample.std(ddof=1)    # Get the sample standard deviation\n",
        "\n",
        "sigma = sample_stdev/math.sqrt(sample_size)  # Standard deviation estimate\n",
        "margin_of_error = t_critical * sigma\n",
        "\n",
        "confidence_interval = (sample_mean - margin_of_error,\n",
        "                       sample_mean + margin_of_error)\n",
        "\n",
        "print(\"Confidence interval:\")\n",
        "print(confidence_interval)"
      ],
      "metadata": {
        "colab": {
          "base_uri": "https://localhost:8080/"
        },
        "id": "9Y-jwNh9cgs_",
        "outputId": "645a8429-3aa5-446b-b6dc-2a4dc24642b8"
      },
      "execution_count": 73,
      "outputs": [
        {
          "output_type": "stream",
          "name": "stdout",
          "text": [
            "t-critical value:\n",
            "2.0638985616280205\n",
            "Confidence interval:\n",
            "(37.65147508161371, 48.108524918386294)\n"
          ]
        }
      ]
    },
    {
      "cell_type": "markdown",
      "source": [
        "Note: when using the t-distribution, you have to supply the degrees of freedom (df). For this type of test, the degrees of freedom is equal to the sample size minus 1. If you have a large sample size, the t-distribution approaches the normal distribution.\n",
        "\n",
        "Notice that the t-critical value is larger than the z-critical value we used for 95% confidence interval. This allows the confidence interval to cast a larger net to make up for the variability caused by using the sample standard deviation in place of the population standard deviation. The end result is a much wider confidence interval (an interval with a larger margin of error.).\n",
        "\n",
        "If you have a large sample, the t-critical value will approach the z-critical value so there is little difference between using the normal distribution vs. the t-distribution:"
      ],
      "metadata": {
        "id": "0ZgvozXx5yO0"
      }
    },
    {
      "cell_type": "code",
      "source": [
        "# Check the difference between critical values with a sample size of 1000\n",
        "\n",
        "stats.t.ppf(q=0.975, df= 999) - stats.norm.ppf(0.975)"
      ],
      "metadata": {
        "colab": {
          "base_uri": "https://localhost:8080/"
        },
        "id": "b48ipbOS5vXh",
        "outputId": "12ad62e1-147b-4932-e7d6-118c45156197"
      },
      "execution_count": 74,
      "outputs": [
        {
          "output_type": "execute_result",
          "data": {
            "text/plain": [
              "0.0023774765933946007"
            ]
          },
          "metadata": {},
          "execution_count": 74
        }
      ]
    },
    {
      "cell_type": "markdown",
      "source": [
        "Instead of calculating a confidence interval for a mean point estimate by hand, you can calculate it using the Python function stats.t.interval():"
      ],
      "metadata": {
        "id": "ITvZ6xgt52VQ"
      }
    },
    {
      "cell_type": "code",
      "source": [
        "stats.t.interval(confidence = 0.95,              # Confidence level\n",
        "                 df= 24,                    # Degrees of freedom\n",
        "                 loc = sample_mean,         # Sample mean\n",
        "                 scale = sigma)             # Standard deviation estimate"
      ],
      "metadata": {
        "colab": {
          "base_uri": "https://localhost:8080/"
        },
        "id": "9tKdCvfX50H0",
        "outputId": "98020844-013f-4a38-af8f-d56af1830b92"
      },
      "execution_count": 76,
      "outputs": [
        {
          "output_type": "execute_result",
          "data": {
            "text/plain": [
              "(37.65147508161371, 48.108524918386294)"
            ]
          },
          "metadata": {},
          "execution_count": 76
        }
      ]
    },
    {
      "cell_type": "markdown",
      "source": [
        "We can also make a confidence interval for a point estimate of a population proportion. In this case, the margin of error equals:\n",
        "\n",
        "$$z* \\sqrt{\\frac{p(1-p)}{n}}$$\n",
        "\n",
        "Where z is the z-critical value for our confidence level, p is the point estimate of the population proportion and n is the sample size. Let's calculate a 95% confidence interval for Hispanics according to the sample proportion we calculated earlier (0.192):"
      ],
      "metadata": {
        "id": "yvRsXHSN6By1"
      }
    },
    {
      "cell_type": "code",
      "source": [
        "z_critical = stats.norm.ppf(0.975)      # Record z-critical value\n",
        "\n",
        "p = 0.192                               # Point estimate of proportion\n",
        "\n",
        "n = 1000                                # Sample size\n",
        "\n",
        "margin_of_error = z_critical * math.sqrt((p*(1-p))/n)\n",
        "\n",
        "confidence_interval = (p - margin_of_error,  # Calculate the the interval\n",
        "                       p + margin_of_error)\n",
        "\n",
        "confidence_interval"
      ],
      "metadata": {
        "colab": {
          "base_uri": "https://localhost:8080/"
        },
        "id": "31781bEx54Na",
        "outputId": "e9a31a55-c15a-4fb6-fcea-3f84019fd87d"
      },
      "execution_count": 77,
      "outputs": [
        {
          "output_type": "execute_result",
          "data": {
            "text/plain": [
              "(0.16758794241348748, 0.21641205758651252)"
            ]
          },
          "metadata": {},
          "execution_count": 77
        }
      ]
    },
    {
      "cell_type": "markdown",
      "source": [
        "The output shows that the confidence interval captured the true population parameter of 0.2. Similar to our population mean point estimates, we can use the scipy stats.distribution.interval() function to calculate a confidence interval for a population proportion for us. In this case were working with z-critical values so we want to work with the normal distribution instead of the t distribution:"
      ],
      "metadata": {
        "id": "DDHLm6sa6RaZ"
      }
    },
    {
      "cell_type": "code",
      "source": [
        "stats.norm.interval(confidence = 0.95,    # Confidence level\n",
        "                   loc =  0.192,     # Point estimate of proportion\n",
        "                   scale = math.sqrt((p*(1-p))/n))  # Scaling factor"
      ],
      "metadata": {
        "colab": {
          "base_uri": "https://localhost:8080/"
        },
        "id": "pknTA6kJ6PcE",
        "outputId": "12b5a9ec-191a-48e8-abbd-a64349676df3"
      },
      "execution_count": 79,
      "outputs": [
        {
          "output_type": "execute_result",
          "data": {
            "text/plain": [
              "(0.16758794241348748, 0.21641205758651252)"
            ]
          },
          "metadata": {},
          "execution_count": 79
        }
      ]
    },
    {
      "cell_type": "markdown",
      "source": [
        "Estimating population parameters through sampling is a simple, yet powerful form of inference. Point estimates combined with error margins let us create confidence intervals that capture the true population parameter with high probability.\n",
        "\n",
        "Next time we'll expand on the concepts in this lesson by learning about statistical hypothesis testing."
      ],
      "metadata": {
        "id": "fPBtN_3Z6bDE"
      }
    }
  ]
}